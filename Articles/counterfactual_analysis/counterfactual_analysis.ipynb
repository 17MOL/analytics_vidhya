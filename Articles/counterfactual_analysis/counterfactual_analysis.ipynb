{
 "cells": [
  {
   "cell_type": "markdown",
   "metadata": {},
   "source": [
    "# Offline Estimates of Online Metrics using Causal Inference\n",
    "### Author: aarshay jain"
   ]
  },
  {
   "cell_type": "markdown",
   "metadata": {},
   "source": [
    "# Introduction / Motivation\n",
    "\n",
    "If an offline model has a better AUC than the production, is it necessarily better for the business? Does a higher AUC, imply improvement in business metrics? How much improvement in AUC is good enough to attemp to deploy a new model and run an A/B test?\n",
    "\n",
    "These are some of the common questions which torment ML practitioners in there daily jobs, specially when building user facing ML products. Some common scenarios behind these concerns are:\n",
    "- ML applications are trying to drive a product which is judged by business metrics like click rates, revenue, engagement, etc. These are dependent on user feedback/interaction in some form which is hard to estimate offline.\n",
    "- ML models are typically deployed along with some business heuristics which control how the model output translates to product action like which song to play or which ad to show.\n",
    "- Many applications chain predictions from multiple models to take an action. For example, the decision of which ad to show could depend on ML models for click rate predictions and demand forecasts along with business constraints like inventory and user eligibility.\n",
    "\n",
    "In such scenarios, typical ML metrics like accuracy, auc-roc, precision-recall etc for individual models are generally not enough to tell whether an offline model is better than the model in production. A/B tests are typically used to do such evaluation but they are expensive to run both in terms of cost and time. Counterfactual evaluation techniques are inspired from causal inference literature and provide a methodology of using production logs to estimate the online metrics like click rate, revenue, etc. Once we have reliable offline estimates, they act act as great first filters on offline models to help decide which ones to A/B test in production.\n",
    "\n",
    "## What's counterfactual?"
   ]
  },
  {
   "cell_type": "markdown",
   "metadata": {},
   "source": [
    "# Advertising Example\n",
    "\n",
    "Lets take an example from advertising world to understand this better. Consider 2 sides of the scenario:\n",
    "- User side - user visits a website and receives an ad; if the user likes the ad, they clicks on the ad otherwise not\n",
    "- Business side - an ML system receives a request with current user context and picks an ad\n",
    "\n",
    "This system can be defined using the following variables:\n",
    "- u: user-intent\n",
    "    A user visits the website with some intent. Eg, user visits amazon.com to buy a shoe\n",
    "- x: user-context\n",
    "    User starts browsing on the website and their activity is packaged as a context vector\n",
    "- v: inventory\n",
    "    Inventory of all ads available to show\n",
    "- b: bids\n",
    "    A system which bids a price per click for ads from the ad inventory\n",
    "- a: selected_ad\n",
    "    A final ad will be selected based on the bids and click estimates\n",
    "- y: click\n",
    "    Binary 1 if user clicks on ad and 0 otherwise\n",
    "- z:\n",
    "    Some revenue generated from the interaction\n",
    "    \n",
    "Note: This example is a sligtly toned down version of the example used in ???. The entire explanation here is a brief summary from the same resource"
   ]
  },
  {
   "cell_type": "markdown",
   "metadata": {},
   "source": [
    "## Goal\n",
    "\n",
    "In this system, lets say click rate is the business metric we're trying to maximize. Click rate is defined as the proportion of advertisements clicked by users, across user sessions. Suppose we have a production system running and now we develop a new model for selecting an ad, i.e. we have a new way of implementing variable `a`. We want to estimate the click rate of this model as compared to the production model. "
   ]
  },
  {
   "cell_type": "markdown",
   "metadata": {},
   "source": [
    "## Causal Graph\n",
    "To answer the question, lets start with creating a causal graph for the system:\n",
    "\n",
    "-- fig1: causal graph --\n",
    "\n",
    "From this graph, we can observe:\n",
    "- u,v are independent variables, also known as exogenous variables\n",
    "- x = f(u)\n",
    "- b = f(x,v)\n",
    "- a = f(x,b)\n",
    "- y = f(a,u)\n",
    "- z = f(y,b)\n",
    "\n",
    "Using these equations and graph, we can represent the join probability of the entire system as a probabilistic generative model as:\n",
    "\n",
    "$$P(w) = P(u,v).P(x|u).P(b|x,v).P(a|x,b).P(y|u,a).P(z|y)$$\n",
    "where w is the set of all variables."
   ]
  },
  {
   "cell_type": "markdown",
   "metadata": {},
   "source": [
    "## Isolation Assumption\n",
    "\n",
    "Before moving forward, lets understand one of the core assumptions in this model. Like any causal graph, this graph assumes that the exogenous variables don't have any back door path into the netwrok, i.e. there are no common cause between the exogenous variables (u,v) and other variables in the network. For example: \n",
    "\n",
    "--figure2\n",
    "\n",
    "In this figure, the causal path represented in red are back door paths which invalidate the previously defined system of equations. Another way of stating this assumption is that saying we assume all observations of exogenous variables are independentally sampled from an unknown but fixed joint distribution. This is the isolation assumption. Most causal grahs make this assumption and we might be able to argue practical back door paths which are not accounted for because such causes cannot be measured/modeled. But it is important to be aware that this assumption is being made."
   ]
  },
  {
   "cell_type": "markdown",
   "metadata": {},
   "source": [
    "## Modeling Interventions \n",
    "\n",
    "This system of equations allows us to model interventions as algebraic manipulations i.e. we can change some interim distributions and model a different output for a given input. Refer to Pearl's do-calculus for more details. \n"
   ]
  },
  {
   "cell_type": "markdown",
   "metadata": {},
   "source": [
    "# Counterfactual Analysis\n",
    "\n",
    "## What is Counterfactual?\n",
    "\n",
    "The question \"what would happen if we replace a current model M with a new model M'\" is counterfactual in the sense that we are not actually making the change and impacting user experience. We are just trying to estimate business metrics in the scenario when we would actually deploy the model M'. \n",
    "\n",
    "## Analogy to traditional ML\n",
    "\n",
    "While training models in a supervised learning setting, we use some independent variables x and true labels y then we try to estimate y as y' = f(x). y' is kind of a counterfactual estimate of what would happend if instead of the system generating the data the model f(x) was used. Then we define a loss function and optimize the model. All this works because f(x) is fully defined which is not the case in our problem i.e. there is no way to know how a user would have interacted if a different ad would shown. "
   ]
  },
  {
   "cell_type": "markdown",
   "metadata": {},
   "source": [
    "## Markov Factor Replacement\n",
    "\n",
    "Now lets try to perform algebraic manipulations in our system of equation. Say we have a new model M' for selection of an ad gived bids. This will impact just one component of the equation:\n",
    "\n",
    "$$P(a|x,b) -> P'(a|x,b)$$\n",
    "The join distribution of the resulting system will be:\n",
    "$$P'(w) = P(u,v).P(x|u).P(b|x,v).P'(a|x,b).P(y|u,a).P(z|y)$$\n",
    "Note that only the one distribution has changed\n",
    "\n",
    "The click rate of the system can be defined as the expectation of click per impression:\n",
    "\n",
    "$$r = \\int_w yP(w)$$\n",
    "Intuitively, this can be understood as a average of the clicks occuring in different contexts-action scenarios, represented by w, weighted by the probability distribution of w, which is a function of the user activity and production model M.\n",
    "\n",
    "For a new model M', the click rate would be:\n",
    "\n",
    "$$r' = \\int_{w} yP'(w)$$\n",
    "To determine click rate for a new model M', we can simply adjust the probability distribution using the new model M given the same inputs from user activity.\n",
    "\n",
    "This can be rewritten as:\n",
    "\n",
    "$$r' = \\int_{w} y\\frac{P'(w)}{P(w)}P(w)$$\n",
    "$$r' = \\int_{w} y\\frac{P'(a|x,b)}{P(a|x,b)}P(w)$$\n",
    "assuming $P(a|x,b)>0$ throughout the domain of w\n",
    "\n",
    "Using the law of large numbers, we can approximate $r'$ as:\n",
    "$$r' \\approx \\frac{1}{n} \\sum_{i=1}^{n} y_i \\frac{P'(a|x,b)}{P(a|x,b)}$$\n",
    "\n",
    "This idea can be generalized for any given metric $l(w)$, the counterfactual estimate of an offline model M' giving a probability distribution $P'(w)$ can be determined using log data with probability distribution $P(w)$ as:\n",
    "$$r' \\approx \\frac{1}{n} \\sum_{i=1}^{n} l(w_i) \\frac{P'(w)}{P(w)}$$\n",
    "\n",
    "This is super powerful because we don't need to fully define the joint distribution $P'(w)$ for the new model M' but only the parts impacted by the intervention/change, which is typically easy to determine as the intervention is controlled."
   ]
  },
  {
   "cell_type": "markdown",
   "metadata": {},
   "source": [
    "## Intuition\n",
    "Lets try to understand the concept with a small example. Suppose there are 5 data points:\n",
    "\n",
    "| context | p(M) | y | p(M') \n",
    "|------|------|------|------|\n",
    "| w1 | 0.8 | 1 | 0.3 |\n",
    "| w2 | 0.6 | 1 | 0.5 |\n",
    "| w3 | 0.2 | 0 | 0.4 |\n",
    "| w4 | 0.1 | 0 | 0.3 |\n",
    "| w5 | 0.7 | 1 | 0.6 |\n",
    "\n",
    "Here each row is a context where an ad was shown. p(M) is the logged probability of showing the ad by the production model M and p(M') is the predicted probaiblity of showing the ad by the offline model M'. y is the user action, 1 if clicked 0 if not. We can observe that the production model usually has a high probability of showing when the user clicked, hence its a better model.\n",
    "\n",
    "## Constraints / Practical Considerations\n",
    "If we carefully observe the final equation, it tends to puts a constraint on the model being evaluated: the model has to be probabilistic in nature and we can determine the probability of taking the exact same action which logging model took, which may not always be trivial. Suppose that we only have the final action a' taken by the new model for each log entry, then we can also re-write the same equation by taking inspiration from propensity score matching based approaches:\n",
    "\n",
    "$$r' \\approx \\frac{1}{n} \\sum_{i=1}^{n} \\frac{l(w_i)\\ \\mathbb{1}(a' == a) }{P(w)}$$\n",
    "\n",
    "Intuitively, this can be understood as considering the new model to be probabilistic and making $P'(w) = 0$ wherever the new model takes a different action than the logged model. \n",
    "\n",
    "Practically, using the matching approach works if we have a few number of actions and we expect to match a fair number of actions from the logged dataset. However, there are numerous situations scanrios like recommendation, information retrieval, multi-arm bandits where we may not have sufficient data to get enough matches for reliable estimates resulting in high variance. Please note that for the sake of simplicity, I will be not be including variance considerations in this article, but feel free to read more in [ref]."
   ]
  },
  {
   "cell_type": "markdown",
   "metadata": {},
   "source": [
    "# Simulation \n",
    "\n",
    "Let's try to understand this using a similuated example, similar to the one we've been working with:\n",
    "- We have 3 ads in inventory, valid for all user contexts\n",
    "- We simulate N number of user contexts, each with a different click probability on one of the ads\n",
    "- We collect some online data by serving ads randomly to users in different contexts and observing click behavior. Random serving is a good way to collect unbiased online data to evaluate online models and should be adopted when possible."
   ]
  },
  {
   "cell_type": "code",
   "execution_count": 7,
   "metadata": {},
   "outputs": [],
   "source": [
    "import numpy as np\n",
    "import pandas as pd\n",
    "import matplotlib.pylab as plt\n",
    "from uuid import uuid4\n",
    "%matplotlib inline"
   ]
  },
  {
   "cell_type": "markdown",
   "metadata": {},
   "source": [
    "## 1. Data Preparation\n",
    "\n",
    "### User Contexts\n",
    "Lets start by defining some 10K user context (x) ids and define a probability distribution on their occurence, i.e. sum contexts are more likely to repeat than others."
   ]
  },
  {
   "cell_type": "code",
   "execution_count": 2,
   "metadata": {},
   "outputs": [],
   "source": [
    "# set user contexts\n",
    "num_contexts = 10000\n",
    "user_contexts = np.asarray([\"context_{}\".format(i) for i in range(num_contexts)])"
   ]
  },
  {
   "cell_type": "code",
   "execution_count": 3,
   "metadata": {},
   "outputs": [
    {
     "data": {
      "image/png": "[encoded data removed]",
      "text/plain": [
       "<Figure size 432x288 with 1 Axes>"
      ]
     },
     "metadata": {
      "needs_background": "light"
     },
     "output_type": "display_data"
    }
   ],
   "source": [
    "# assign selection prior to these contexts\n",
    "def random_normal_sample_sum_to_1(size):\n",
    "    sample = np.random.normal(0, 1, size)\n",
    "    sample_adjusted = sample - sample.min()\n",
    "    return sample_adjusted / sample_adjusted.sum()\n",
    "user_context_selection_prior = random_normal_sample_sum_to_1(num_contexts)\n",
    "plt.hist(user_context_selection_prior, bins=100)\n",
    "assert user_context_selection_prior.sum().round(2) == 1.0"
   ]
  },
  {
   "cell_type": "markdown",
   "metadata": {},
   "source": [
    "### Click Rate Per Context\n",
    "Lets define 3 ads in our inventory. For sake of simplicity, lets say the click rate for a given ad in a given context can be one of:\n",
    "- Low: 10%\n",
    "- Medium: 40%\n",
    "- High: 60%\n",
    "\n",
    "Then we can randomly assign which of the ads is low/med/high in which context. The idea is that a good model will pick the high interaction ad in a given context more often than low interaction ad."
   ]
  },
  {
   "cell_type": "code",
   "execution_count": 4,
   "metadata": {},
   "outputs": [],
   "source": [
    "# set ads\n",
    "num_ads = 3\n",
    "ads = np.asarray([\"ad_{}\".format(i) for i in range(num_ads)])"
   ]
  },
  {
   "cell_type": "code",
   "execution_count": 5,
   "metadata": {},
   "outputs": [],
   "source": [
    "# assign random priors to contexts\n",
    "ad_interaction_priors = np.asarray([0.1, 0.3, 0.6])\n",
    "user_context_priors = {context:np.random.permutation(ad_interaction_priors) for context in user_contexts}"
   ]
  },
  {
   "cell_type": "markdown",
   "metadata": {},
   "source": [
    "## 2. Random Data Collection\n",
    "Now lets simulate 100K iterations where one of the 10K user contexts is given as input to the model, a random ad is served and based on the click prior for that ad in that context, an action of click or no click is sampled. The idea here is to generate data similar to production logs of any model, the difference being that we are simulating the user side.\n",
    "\n",
    "The simulated data will contain 4 columns:\n",
    "1. log_id: represents each logged row\n",
    "2. context_id: represents the user context from our list of 10K contexts\n",
    "3. selected_ad: the ad shown by the production model\n",
    "4. user_interaction: binary 1 if the user interacted and 0 otherwise"
   ]
  },
  {
   "cell_type": "code",
   "execution_count": 8,
   "metadata": {},
   "outputs": [],
   "source": [
    "num_iterations = 100000"
   ]
  },
  {
   "cell_type": "code",
   "execution_count": 9,
   "metadata": {},
   "outputs": [],
   "source": [
    "# create empty df for storing logs\n",
    "df_random_serving = pd.DataFrame(\n",
    "    columns = [\"log_id\", \"context_id\", \"selected_ad\", \"user_interaction\"]\n",
    ")\n",
    "\n",
    "# create unique ID for each log entry\n",
    "df_random_serving[\"log_id\"] = [uuid4() for _ in range(num_iterations)]\n",
    "\n",
    "# assign a context id to each log entry\n",
    "df_random_serving[\"context_id\"] = np.random.choice(user_contexts, size=num_iterations, replace=True, p=user_context_selection_prior)\n",
    "\n",
    "# randomly sample an ad to show in that context\n",
    "df_random_serving[\"selected_ad\"] = np.random.choice(ads, size=num_iterations, replace=True)"
   ]
  },
  {
   "cell_type": "code",
   "execution_count": 10,
   "metadata": {},
   "outputs": [],
   "source": [
    "# for each log entry, sample an action or click or not using the click probability assigned to the context-ad pair in step 1\n",
    "def sample_action_for_ad(context_id, ad_id):\n",
    "    prior = user_context_priors.get(context_id)[np.where(ads == ad_id)[0][0]]\n",
    "    return np.random.binomial(1, prior)\n",
    "df_random_serving[\"user_interaction\"] = df_random_serving.apply(lambda x: sample_action_for_ad(x[\"context_id\"], x[\"selected_ad\"]), axis=1)"
   ]
  },
  {
   "cell_type": "code",
   "execution_count": 11,
   "metadata": {},
   "outputs": [
    {
     "data": {
      "text/html": [
       "<div>\n",
       "<style scoped>\n",
       "    .dataframe tbody tr th:only-of-type {\n",
       "        vertical-align: middle;\n",
       "    }\n",
       "\n",
       "    .dataframe tbody tr th {\n",
       "        vertical-align: top;\n",
       "    }\n",
       "\n",
       "    .dataframe thead th {\n",
       "        text-align: right;\n",
       "    }\n",
       "</style>\n",
       "<table border=\"1\" class=\"dataframe\">\n",
       "  <thead>\n",
       "    <tr style=\"text-align: right;\">\n",
       "      <th></th>\n",
       "      <th>log_id</th>\n",
       "      <th>context_id</th>\n",
       "      <th>selected_ad</th>\n",
       "      <th>user_interaction</th>\n",
       "    </tr>\n",
       "  </thead>\n",
       "  <tbody>\n",
       "    <tr>\n",
       "      <td>44987</td>\n",
       "      <td>70435bc8-1694-4893-a275-6c5b41a9e19a</td>\n",
       "      <td>context_3680</td>\n",
       "      <td>ad_1</td>\n",
       "      <td>0</td>\n",
       "    </tr>\n",
       "    <tr>\n",
       "      <td>6103</td>\n",
       "      <td>7ccf8bad-fbce-4752-82ec-87821f45170f</td>\n",
       "      <td>context_1904</td>\n",
       "      <td>ad_0</td>\n",
       "      <td>0</td>\n",
       "    </tr>\n",
       "    <tr>\n",
       "      <td>14165</td>\n",
       "      <td>d2780b76-89db-45c1-95d2-274100f8cb67</td>\n",
       "      <td>context_5811</td>\n",
       "      <td>ad_2</td>\n",
       "      <td>0</td>\n",
       "    </tr>\n",
       "    <tr>\n",
       "      <td>5010</td>\n",
       "      <td>6a02c45c-8998-439c-9375-527ad9ea4aca</td>\n",
       "      <td>context_9880</td>\n",
       "      <td>ad_1</td>\n",
       "      <td>1</td>\n",
       "    </tr>\n",
       "    <tr>\n",
       "      <td>78275</td>\n",
       "      <td>387d417d-b53b-4a61-a04f-0426300a2857</td>\n",
       "      <td>context_2538</td>\n",
       "      <td>ad_2</td>\n",
       "      <td>0</td>\n",
       "    </tr>\n",
       "    <tr>\n",
       "      <td>80924</td>\n",
       "      <td>014cb9a5-6735-4261-99ce-ec14c43b5d4a</td>\n",
       "      <td>context_6900</td>\n",
       "      <td>ad_2</td>\n",
       "      <td>0</td>\n",
       "    </tr>\n",
       "    <tr>\n",
       "      <td>60817</td>\n",
       "      <td>9c77fa2c-e024-4352-857f-62116917e6f9</td>\n",
       "      <td>context_6271</td>\n",
       "      <td>ad_0</td>\n",
       "      <td>1</td>\n",
       "    </tr>\n",
       "    <tr>\n",
       "      <td>48369</td>\n",
       "      <td>6d4435f0-c2e9-477a-a239-22cb9f27489a</td>\n",
       "      <td>context_801</td>\n",
       "      <td>ad_2</td>\n",
       "      <td>0</td>\n",
       "    </tr>\n",
       "    <tr>\n",
       "      <td>83351</td>\n",
       "      <td>d7f58d1e-adf9-4c07-ae04-ffc5b5e27f59</td>\n",
       "      <td>context_6483</td>\n",
       "      <td>ad_0</td>\n",
       "      <td>0</td>\n",
       "    </tr>\n",
       "    <tr>\n",
       "      <td>29672</td>\n",
       "      <td>4d184aaf-2e98-4ff4-9ea8-242f093d2a76</td>\n",
       "      <td>context_9086</td>\n",
       "      <td>ad_0</td>\n",
       "      <td>0</td>\n",
       "    </tr>\n",
       "  </tbody>\n",
       "</table>\n",
       "</div>"
      ],
      "text/plain": [
       "                                     log_id    context_id selected_ad  \\\n",
       "44987  70435bc8-1694-4893-a275-6c5b41a9e19a  context_3680        ad_1   \n",
       "6103   7ccf8bad-fbce-4752-82ec-87821f45170f  context_1904        ad_0   \n",
       "14165  d2780b76-89db-45c1-95d2-274100f8cb67  context_5811        ad_2   \n",
       "5010   6a02c45c-8998-439c-9375-527ad9ea4aca  context_9880        ad_1   \n",
       "78275  387d417d-b53b-4a61-a04f-0426300a2857  context_2538        ad_2   \n",
       "80924  014cb9a5-6735-4261-99ce-ec14c43b5d4a  context_6900        ad_2   \n",
       "60817  9c77fa2c-e024-4352-857f-62116917e6f9  context_6271        ad_0   \n",
       "48369  6d4435f0-c2e9-477a-a239-22cb9f27489a   context_801        ad_2   \n",
       "83351  d7f58d1e-adf9-4c07-ae04-ffc5b5e27f59  context_6483        ad_0   \n",
       "29672  4d184aaf-2e98-4ff4-9ea8-242f093d2a76  context_9086        ad_0   \n",
       "\n",
       "       user_interaction  \n",
       "44987                 0  \n",
       "6103                  0  \n",
       "14165                 0  \n",
       "5010                  1  \n",
       "78275                 0  \n",
       "80924                 0  \n",
       "60817                 1  \n",
       "48369                 0  \n",
       "83351                 0  \n",
       "29672                 0  "
      ]
     },
     "execution_count": 11,
     "metadata": {},
     "output_type": "execute_result"
    }
   ],
   "source": [
    "# a snapshot of the data\n",
    "df_random_serving.sample(10)"
   ]
  },
  {
   "cell_type": "markdown",
   "metadata": {},
   "source": [
    "To recap, each row in this simulated log data represents an instance where:\n",
    "- a user visited a website with some intent and generated a user context (x) denoted by context_id.\n",
    "- a production model (random in this case) selected an ad to show to the user\n",
    "- the user interaction was observed and logged"
   ]
  },
  {
   "cell_type": "markdown",
   "metadata": {},
   "source": [
    "## 3. New Model estimation\n",
    "\n",
    "### Define models\n",
    "\n",
    "Now lets define some models for which we can establish an intuition of order of performance on click rate. This will allow us to simulate offline model predictions, use counterfactual estimation to get metrics and compare them with expected results. \n",
    "\n",
    "One way to do so is to set priors on the likelihood of picking the low/med/high ad using a vector \\[p_low, p_med, p_high\\] for a given context. We can intuitively say that the models with a higher likelihood of picking more performant ads for a context will work better. Note that this is not how an actual model would work because we wouldn't know the click rate prior, think of these as models which have learned these priors with different levels of accuracy.\n",
    "\n",
    "Here's a group of 10 models with increasing expected performance:"
   ]
  },
  {
   "cell_type": "code",
   "execution_count": 12,
   "metadata": {},
   "outputs": [],
   "source": [
    "new_model_priors = np.atleast_2d([\n",
    "    [0.8, 0.1, 0.1],\n",
    "    [0.7, 0.2, 0.1],\n",
    "    [0.6, 0.2, 0.2],\n",
    "    [0.5, 0.3, 0.2],\n",
    "    [0.5, 0.2, 0.3],\n",
    "    [0.4, 0.3, 0.3],\n",
    "    [0.4, 0.2, 0.4],\n",
    "    [0.3, 0.3, 0.4],\n",
    "    [0.2, 0.35, 0.45],\n",
    "    [0.2, 0.2, 0.6]\n",
    "])"
   ]
  },
  {
   "cell_type": "markdown",
   "metadata": {},
   "source": [
    "For clarification, lets see this as a dataframe:"
   ]
  },
  {
   "cell_type": "code",
   "execution_count": 16,
   "metadata": {},
   "outputs": [
    {
     "data": {
      "text/html": [
       "<div>\n",
       "<style scoped>\n",
       "    .dataframe tbody tr th:only-of-type {\n",
       "        vertical-align: middle;\n",
       "    }\n",
       "\n",
       "    .dataframe tbody tr th {\n",
       "        vertical-align: top;\n",
       "    }\n",
       "\n",
       "    .dataframe thead th {\n",
       "        text-align: right;\n",
       "    }\n",
       "</style>\n",
       "<table border=\"1\" class=\"dataframe\">\n",
       "  <thead>\n",
       "    <tr style=\"text-align: right;\">\n",
       "      <th></th>\n",
       "      <th>model_id</th>\n",
       "      <th>prob_low</th>\n",
       "      <th>prob_med</th>\n",
       "      <th>prob_high</th>\n",
       "    </tr>\n",
       "  </thead>\n",
       "  <tbody>\n",
       "    <tr>\n",
       "      <td>0</td>\n",
       "      <td>model_0</td>\n",
       "      <td>0.8</td>\n",
       "      <td>0.1</td>\n",
       "      <td>0.1</td>\n",
       "    </tr>\n",
       "    <tr>\n",
       "      <td>1</td>\n",
       "      <td>model_1</td>\n",
       "      <td>0.7</td>\n",
       "      <td>0.2</td>\n",
       "      <td>0.1</td>\n",
       "    </tr>\n",
       "    <tr>\n",
       "      <td>2</td>\n",
       "      <td>model_2</td>\n",
       "      <td>0.6</td>\n",
       "      <td>0.2</td>\n",
       "      <td>0.2</td>\n",
       "    </tr>\n",
       "    <tr>\n",
       "      <td>3</td>\n",
       "      <td>model_3</td>\n",
       "      <td>0.5</td>\n",
       "      <td>0.3</td>\n",
       "      <td>0.2</td>\n",
       "    </tr>\n",
       "    <tr>\n",
       "      <td>4</td>\n",
       "      <td>model_4</td>\n",
       "      <td>0.5</td>\n",
       "      <td>0.2</td>\n",
       "      <td>0.3</td>\n",
       "    </tr>\n",
       "    <tr>\n",
       "      <td>5</td>\n",
       "      <td>model_5</td>\n",
       "      <td>0.4</td>\n",
       "      <td>0.3</td>\n",
       "      <td>0.3</td>\n",
       "    </tr>\n",
       "    <tr>\n",
       "      <td>6</td>\n",
       "      <td>model_6</td>\n",
       "      <td>0.4</td>\n",
       "      <td>0.2</td>\n",
       "      <td>0.4</td>\n",
       "    </tr>\n",
       "    <tr>\n",
       "      <td>7</td>\n",
       "      <td>model_7</td>\n",
       "      <td>0.3</td>\n",
       "      <td>0.3</td>\n",
       "      <td>0.4</td>\n",
       "    </tr>\n",
       "    <tr>\n",
       "      <td>8</td>\n",
       "      <td>model_8</td>\n",
       "      <td>0.2</td>\n",
       "      <td>0.35</td>\n",
       "      <td>0.45</td>\n",
       "    </tr>\n",
       "    <tr>\n",
       "      <td>9</td>\n",
       "      <td>model_9</td>\n",
       "      <td>0.2</td>\n",
       "      <td>0.2</td>\n",
       "      <td>0.6</td>\n",
       "    </tr>\n",
       "  </tbody>\n",
       "</table>\n",
       "</div>"
      ],
      "text/plain": [
       "  model_id prob_low prob_med prob_high\n",
       "0  model_0      0.8      0.1       0.1\n",
       "1  model_1      0.7      0.2       0.1\n",
       "2  model_2      0.6      0.2       0.2\n",
       "3  model_3      0.5      0.3       0.2\n",
       "4  model_4      0.5      0.2       0.3\n",
       "5  model_5      0.4      0.3       0.3\n",
       "6  model_6      0.4      0.2       0.4\n",
       "7  model_7      0.3      0.3       0.4\n",
       "8  model_8      0.2     0.35      0.45\n",
       "9  model_9      0.2      0.2       0.6"
      ]
     },
     "execution_count": 16,
     "metadata": {},
     "output_type": "execute_result"
    }
   ],
   "source": [
    "new_model_names = np.asarray([\"model_{}\".format(i) for i in range(new_model_priors.shape[0])])\n",
    "pd.DataFrame(\n",
    "    data=np.hstack([np.atleast_2d(new_model_names).T, new_model_priors]),\n",
    "    columns=[\"model_id\", \"prob_low\", \"prob_med\", \"prob_high\"]\n",
    ")"
   ]
  },
  {
   "cell_type": "markdown",
   "metadata": {},
   "source": [
    "One nice feature of defining a model in this way is that we can actually calculate the expected click rate of each model. Since a model is a set of priors on picking a low/med/high ad and we have already fixed the interaction rates of low/med/high ads, we can just take a dot product to estimate the click rate:"
   ]
  },
  {
   "cell_type": "code",
   "execution_count": 18,
   "metadata": {},
   "outputs": [
    {
     "data": {
      "text/plain": [
       "array([0.17 , 0.19 , 0.24 , 0.26 , 0.29 , 0.31 , 0.34 , 0.36 , 0.395,\n",
       "       0.44 ])"
      ]
     },
     "execution_count": 18,
     "metadata": {},
     "output_type": "execute_result"
    }
   ],
   "source": [
    "# expected interaction rate:\n",
    "expected_interaction_rates = np.dot(new_model_priors, np.atleast_2d(ad_interaction_priors).T)\n",
    "expected_interaction_rates.ravel()"
   ]
  },
  {
   "cell_type": "markdown",
   "metadata": {},
   "source": [
    "We can see that expected click rates are in the order that we expect. Now we'll try to sample ad selections using each policy and use the counterfactual technique learned above to see if can estimate these click rates just using the logged data and sampled outcomes from each model"
   ]
  },
  {
   "cell_type": "markdown",
   "metadata": {},
   "source": [
    "### Estimate click rate: propensity matching\n",
    "\n",
    "First, lets use the propensity matching estimate:\n",
    "$$r' \\approx \\frac{1}{n} \\sum_{i=1}^{n} \\frac{y_i\\ \\mathbb{1}(a' == a) }{P(w)}$$\n",
    "where:\n",
    "- $y_i$: user interaction\n",
    "- $a'$: action suggested by new model\n",
    "- $a$: action taking by production model\n",
    "- $P(a|x,b)$: logged probability of the production model (random serving)"
   ]
  },
  {
   "cell_type": "code",
   "execution_count": 19,
   "metadata": {},
   "outputs": [],
   "source": [
    "# use the same context ids as logged data:\n",
    "df_new_models_matching = df_random_serving.copy()"
   ]
  },
  {
   "cell_type": "code",
   "execution_count": 23,
   "metadata": {},
   "outputs": [],
   "source": [
    "def sample_ad_for_context_n_model(context_id, model_priors):\n",
    "    # get ad interaction priors for the given context\n",
    "    interaction_priors = user_context_priors.get(context_id)\n",
    "    \n",
    "    # get the selection prior for the given model based on interaction priors\n",
    "    selection_priors = model_priors[np.argsort(np.argsort(interaction_priors))]\n",
    "    \n",
    "    # select an ad using the priors and log the selection probability\n",
    "    selected_ad = np.random.choice(ads, None, replace=False, p=selection_priors)\n",
    "#     selected_ad_prior = selection_priors[ads.tolist().index(selected_ad)]\n",
    "    return selected_ad\n",
    "\n",
    "for policy_name, model_prior in zip(new_model_names, new_model_priors):\n",
    "    df_new_models_matching.loc[:, policy_name] = df_new_models_matching[\"context_id\"].apply(lambda x: sample_ad_for_context_n_model(x, model_prior))"
   ]
  },
  {
   "cell_type": "code",
   "execution_count": 24,
   "metadata": {},
   "outputs": [
    {
     "data": {
      "text/html": [
       "<div>\n",
       "<style scoped>\n",
       "    .dataframe tbody tr th:only-of-type {\n",
       "        vertical-align: middle;\n",
       "    }\n",
       "\n",
       "    .dataframe tbody tr th {\n",
       "        vertical-align: top;\n",
       "    }\n",
       "\n",
       "    .dataframe thead th {\n",
       "        text-align: right;\n",
       "    }\n",
       "</style>\n",
       "<table border=\"1\" class=\"dataframe\">\n",
       "  <thead>\n",
       "    <tr style=\"text-align: right;\">\n",
       "      <th></th>\n",
       "      <th>log_id</th>\n",
       "      <th>context_id</th>\n",
       "      <th>selected_ad</th>\n",
       "      <th>user_interaction</th>\n",
       "      <th>model_0</th>\n",
       "      <th>model_1</th>\n",
       "      <th>model_2</th>\n",
       "      <th>model_3</th>\n",
       "      <th>model_4</th>\n",
       "      <th>model_5</th>\n",
       "      <th>model_6</th>\n",
       "      <th>model_7</th>\n",
       "      <th>model_8</th>\n",
       "      <th>model_9</th>\n",
       "    </tr>\n",
       "  </thead>\n",
       "  <tbody>\n",
       "    <tr>\n",
       "      <td>55799</td>\n",
       "      <td>affd0441-23c6-4bc6-8895-e569fb5b138e</td>\n",
       "      <td>context_2649</td>\n",
       "      <td>ad_2</td>\n",
       "      <td>0</td>\n",
       "      <td>ad_2</td>\n",
       "      <td>ad_1</td>\n",
       "      <td>ad_2</td>\n",
       "      <td>ad_1</td>\n",
       "      <td>ad_2</td>\n",
       "      <td>ad_2</td>\n",
       "      <td>ad_0</td>\n",
       "      <td>ad_2</td>\n",
       "      <td>ad_0</td>\n",
       "      <td>ad_0</td>\n",
       "    </tr>\n",
       "    <tr>\n",
       "      <td>4693</td>\n",
       "      <td>e8c58f37-a55c-46d1-85c2-c2d07c5472b9</td>\n",
       "      <td>context_2146</td>\n",
       "      <td>ad_2</td>\n",
       "      <td>0</td>\n",
       "      <td>ad_1</td>\n",
       "      <td>ad_1</td>\n",
       "      <td>ad_2</td>\n",
       "      <td>ad_0</td>\n",
       "      <td>ad_1</td>\n",
       "      <td>ad_0</td>\n",
       "      <td>ad_2</td>\n",
       "      <td>ad_0</td>\n",
       "      <td>ad_0</td>\n",
       "      <td>ad_2</td>\n",
       "    </tr>\n",
       "    <tr>\n",
       "      <td>46644</td>\n",
       "      <td>90886630-3866-42a4-ac79-73e9b63ca2c4</td>\n",
       "      <td>context_721</td>\n",
       "      <td>ad_1</td>\n",
       "      <td>1</td>\n",
       "      <td>ad_0</td>\n",
       "      <td>ad_0</td>\n",
       "      <td>ad_0</td>\n",
       "      <td>ad_2</td>\n",
       "      <td>ad_0</td>\n",
       "      <td>ad_2</td>\n",
       "      <td>ad_0</td>\n",
       "      <td>ad_0</td>\n",
       "      <td>ad_0</td>\n",
       "      <td>ad_1</td>\n",
       "    </tr>\n",
       "    <tr>\n",
       "      <td>11061</td>\n",
       "      <td>6b38f09a-e254-49fa-9a50-e380868ca5ec</td>\n",
       "      <td>context_5762</td>\n",
       "      <td>ad_1</td>\n",
       "      <td>0</td>\n",
       "      <td>ad_0</td>\n",
       "      <td>ad_0</td>\n",
       "      <td>ad_1</td>\n",
       "      <td>ad_2</td>\n",
       "      <td>ad_0</td>\n",
       "      <td>ad_0</td>\n",
       "      <td>ad_1</td>\n",
       "      <td>ad_0</td>\n",
       "      <td>ad_0</td>\n",
       "      <td>ad_0</td>\n",
       "    </tr>\n",
       "    <tr>\n",
       "      <td>72255</td>\n",
       "      <td>a26903ec-6086-4f0d-af09-8cc7526f505a</td>\n",
       "      <td>context_9667</td>\n",
       "      <td>ad_2</td>\n",
       "      <td>0</td>\n",
       "      <td>ad_1</td>\n",
       "      <td>ad_2</td>\n",
       "      <td>ad_1</td>\n",
       "      <td>ad_1</td>\n",
       "      <td>ad_1</td>\n",
       "      <td>ad_2</td>\n",
       "      <td>ad_2</td>\n",
       "      <td>ad_0</td>\n",
       "      <td>ad_0</td>\n",
       "      <td>ad_1</td>\n",
       "    </tr>\n",
       "  </tbody>\n",
       "</table>\n",
       "</div>"
      ],
      "text/plain": [
       "                                     log_id    context_id selected_ad  \\\n",
       "55799  affd0441-23c6-4bc6-8895-e569fb5b138e  context_2649        ad_2   \n",
       "4693   e8c58f37-a55c-46d1-85c2-c2d07c5472b9  context_2146        ad_2   \n",
       "46644  90886630-3866-42a4-ac79-73e9b63ca2c4   context_721        ad_1   \n",
       "11061  6b38f09a-e254-49fa-9a50-e380868ca5ec  context_5762        ad_1   \n",
       "72255  a26903ec-6086-4f0d-af09-8cc7526f505a  context_9667        ad_2   \n",
       "\n",
       "       user_interaction model_0 model_1 model_2 model_3 model_4 model_5  \\\n",
       "55799                 0    ad_2    ad_1    ad_2    ad_1    ad_2    ad_2   \n",
       "4693                  0    ad_1    ad_1    ad_2    ad_0    ad_1    ad_0   \n",
       "46644                 1    ad_0    ad_0    ad_0    ad_2    ad_0    ad_2   \n",
       "11061                 0    ad_0    ad_0    ad_1    ad_2    ad_0    ad_0   \n",
       "72255                 0    ad_1    ad_2    ad_1    ad_1    ad_1    ad_2   \n",
       "\n",
       "      model_6 model_7 model_8 model_9  \n",
       "55799    ad_0    ad_2    ad_0    ad_0  \n",
       "4693     ad_2    ad_0    ad_0    ad_2  \n",
       "46644    ad_0    ad_0    ad_0    ad_1  \n",
       "11061    ad_1    ad_0    ad_0    ad_0  \n",
       "72255    ad_2    ad_0    ad_0    ad_1  "
      ]
     },
     "execution_count": 24,
     "metadata": {},
     "output_type": "execute_result"
    }
   ],
   "source": [
    "df_new_models_matching.sample(5)"
   ]
  },
  {
   "cell_type": "markdown",
   "metadata": {},
   "source": [
    "We can see that for each log entry, we've computed the ad selection from all new models."
   ]
  },
  {
   "cell_type": "code",
   "execution_count": 40,
   "metadata": {},
   "outputs": [],
   "source": [
    "# match and estimate:\n",
    "estimates_matching = []\n",
    "for i in range(len(new_model_names)):\n",
    "    model = \"model_{}\".format(i)\n",
    "    matching_mask = (df_new_models_matching[\"selected_ad\"] == df_new_models_matching[model].values).astype(int)\n",
    "    \n",
    "    # the logging policy was random so we know P(w) = 1/3\n",
    "    estimate = (df_new_models_matching[\"user_interaction\"] * matching_mask / 0.333).sum() / df_policy_estimate.shape[0]\n",
    "    estimates_matching.append(estimate)"
   ]
  },
  {
   "cell_type": "code",
   "execution_count": 54,
   "metadata": {},
   "outputs": [
    {
     "data": {
      "image/png": "[encoded data removed]",
      "text/plain": [
       "<Figure size 720x360 with 1 Axes>"
      ]
     },
     "metadata": {
      "needs_background": "light"
     },
     "output_type": "display_data"
    }
   ],
   "source": [
    "plt.figure(figsize=(10,5))\n",
    "plt.plot(expected_interaction_rates, label=\"expected rate\")\n",
    "plt.xticks(range(10), labels=new_model_names, rotation=30)\n",
    "plt.plot(estimates_matching\n",
    "         , label=\"actual rate\")\n",
    "plt.legend()\n",
    "plt.show()"
   ]
  },
  {
   "cell_type": "markdown",
   "metadata": {},
   "source": [
    "### Estimate click rate: propensity weighting\n",
    "\n",
    "First, lets use the propensity matching estimate:\n",
    "$$r' \\approx \\frac{1}{n} \\sum_{i=1}^{n} y_i \\frac{P'(w) }{P(w)}$$\n",
    "\n",
    "Here:\n",
    "- $y_i$: user interaction\n",
    "- $P'(a|x,b)$: selection probability of the offline model being evaluated\n",
    "- $P(a|x,b)$: logged probability of the production model (random serving)"
   ]
  },
  {
   "cell_type": "code",
   "execution_count": 55,
   "metadata": {},
   "outputs": [],
   "source": [
    "# use the same context ids as logged data:\n",
    "df_new_models_weighting = df_random_serving.copy()"
   ]
  },
  {
   "cell_type": "code",
   "execution_count": 58,
   "metadata": {},
   "outputs": [],
   "source": [
    "def sample_prior_for_context_n_model(context_id, model_priors, selected_ad):\n",
    "    # get ad interaction priors for the given context\n",
    "    interaction_priors = user_context_priors.get(context_id)\n",
    "    \n",
    "    # get the selection prior for the given model based on interaction priors\n",
    "    selection_priors = model_priors[np.argsort(np.argsort(interaction_priors))]\n",
    "    \n",
    "    # get prior of the selected ad\n",
    "    selected_ad_prior = selection_priors[ads.tolist().index(selected_ad)]\n",
    "    return selected_ad_prior\n",
    "\n",
    "for policy_name, model_prior in zip(new_policy_names, new_model_priors):\n",
    "    df_new_models_weighting.loc[:, policy_name] = df_new_models_weighting.apply(lambda x: sample_prior_for_context_n_model(x[\"context_id\"], model_prior, x[\"selected_ad\"]), axis=1)"
   ]
  },
  {
   "cell_type": "code",
   "execution_count": 59,
   "metadata": {},
   "outputs": [
    {
     "data": {
      "text/html": [
       "<div>\n",
       "<style scoped>\n",
       "    .dataframe tbody tr th:only-of-type {\n",
       "        vertical-align: middle;\n",
       "    }\n",
       "\n",
       "    .dataframe tbody tr th {\n",
       "        vertical-align: top;\n",
       "    }\n",
       "\n",
       "    .dataframe thead th {\n",
       "        text-align: right;\n",
       "    }\n",
       "</style>\n",
       "<table border=\"1\" class=\"dataframe\">\n",
       "  <thead>\n",
       "    <tr style=\"text-align: right;\">\n",
       "      <th></th>\n",
       "      <th>log_id</th>\n",
       "      <th>context_id</th>\n",
       "      <th>selected_ad</th>\n",
       "      <th>user_interaction</th>\n",
       "      <th>model_0</th>\n",
       "      <th>model_1</th>\n",
       "      <th>model_2</th>\n",
       "      <th>model_3</th>\n",
       "      <th>model_4</th>\n",
       "      <th>model_5</th>\n",
       "      <th>model_6</th>\n",
       "      <th>model_7</th>\n",
       "      <th>model_8</th>\n",
       "      <th>model_9</th>\n",
       "    </tr>\n",
       "  </thead>\n",
       "  <tbody>\n",
       "    <tr>\n",
       "      <td>16401</td>\n",
       "      <td>512ac352-81fe-4d52-963f-5df145863c26</td>\n",
       "      <td>context_9307</td>\n",
       "      <td>ad_1</td>\n",
       "      <td>0</td>\n",
       "      <td>0.1</td>\n",
       "      <td>0.2</td>\n",
       "      <td>0.2</td>\n",
       "      <td>0.3</td>\n",
       "      <td>0.2</td>\n",
       "      <td>0.3</td>\n",
       "      <td>0.2</td>\n",
       "      <td>0.3</td>\n",
       "      <td>0.35</td>\n",
       "      <td>0.2</td>\n",
       "    </tr>\n",
       "    <tr>\n",
       "      <td>29261</td>\n",
       "      <td>c51124be-c191-44ba-b6dd-fc196ad1fb8c</td>\n",
       "      <td>context_9576</td>\n",
       "      <td>ad_0</td>\n",
       "      <td>1</td>\n",
       "      <td>0.1</td>\n",
       "      <td>0.1</td>\n",
       "      <td>0.2</td>\n",
       "      <td>0.2</td>\n",
       "      <td>0.3</td>\n",
       "      <td>0.3</td>\n",
       "      <td>0.4</td>\n",
       "      <td>0.4</td>\n",
       "      <td>0.45</td>\n",
       "      <td>0.6</td>\n",
       "    </tr>\n",
       "    <tr>\n",
       "      <td>98230</td>\n",
       "      <td>b1c05d5c-f334-42a3-a5a9-68eb04383006</td>\n",
       "      <td>context_3620</td>\n",
       "      <td>ad_1</td>\n",
       "      <td>0</td>\n",
       "      <td>0.8</td>\n",
       "      <td>0.7</td>\n",
       "      <td>0.6</td>\n",
       "      <td>0.5</td>\n",
       "      <td>0.5</td>\n",
       "      <td>0.4</td>\n",
       "      <td>0.4</td>\n",
       "      <td>0.3</td>\n",
       "      <td>0.20</td>\n",
       "      <td>0.2</td>\n",
       "    </tr>\n",
       "    <tr>\n",
       "      <td>64210</td>\n",
       "      <td>ea4755e9-c517-4387-8d64-0220dbe021c4</td>\n",
       "      <td>context_6106</td>\n",
       "      <td>ad_0</td>\n",
       "      <td>0</td>\n",
       "      <td>0.1</td>\n",
       "      <td>0.2</td>\n",
       "      <td>0.2</td>\n",
       "      <td>0.3</td>\n",
       "      <td>0.2</td>\n",
       "      <td>0.3</td>\n",
       "      <td>0.2</td>\n",
       "      <td>0.3</td>\n",
       "      <td>0.35</td>\n",
       "      <td>0.2</td>\n",
       "    </tr>\n",
       "    <tr>\n",
       "      <td>41240</td>\n",
       "      <td>3a771841-1f31-44eb-99f4-0860dacd174b</td>\n",
       "      <td>context_871</td>\n",
       "      <td>ad_1</td>\n",
       "      <td>1</td>\n",
       "      <td>0.1</td>\n",
       "      <td>0.1</td>\n",
       "      <td>0.2</td>\n",
       "      <td>0.2</td>\n",
       "      <td>0.3</td>\n",
       "      <td>0.3</td>\n",
       "      <td>0.4</td>\n",
       "      <td>0.4</td>\n",
       "      <td>0.45</td>\n",
       "      <td>0.6</td>\n",
       "    </tr>\n",
       "    <tr>\n",
       "      <td>44964</td>\n",
       "      <td>2a217956-f5a5-4e28-9bf0-f5bde74429cc</td>\n",
       "      <td>context_7114</td>\n",
       "      <td>ad_0</td>\n",
       "      <td>1</td>\n",
       "      <td>0.1</td>\n",
       "      <td>0.1</td>\n",
       "      <td>0.2</td>\n",
       "      <td>0.2</td>\n",
       "      <td>0.3</td>\n",
       "      <td>0.3</td>\n",
       "      <td>0.4</td>\n",
       "      <td>0.4</td>\n",
       "      <td>0.45</td>\n",
       "      <td>0.6</td>\n",
       "    </tr>\n",
       "    <tr>\n",
       "      <td>21917</td>\n",
       "      <td>1ab8c19a-2d9c-4e77-98ac-dcccc3624ebd</td>\n",
       "      <td>context_3826</td>\n",
       "      <td>ad_2</td>\n",
       "      <td>0</td>\n",
       "      <td>0.8</td>\n",
       "      <td>0.7</td>\n",
       "      <td>0.6</td>\n",
       "      <td>0.5</td>\n",
       "      <td>0.5</td>\n",
       "      <td>0.4</td>\n",
       "      <td>0.4</td>\n",
       "      <td>0.3</td>\n",
       "      <td>0.20</td>\n",
       "      <td>0.2</td>\n",
       "    </tr>\n",
       "    <tr>\n",
       "      <td>64111</td>\n",
       "      <td>8d903f78-3254-4c9d-b17a-bf0ec874c8df</td>\n",
       "      <td>context_3007</td>\n",
       "      <td>ad_1</td>\n",
       "      <td>0</td>\n",
       "      <td>0.1</td>\n",
       "      <td>0.1</td>\n",
       "      <td>0.2</td>\n",
       "      <td>0.2</td>\n",
       "      <td>0.3</td>\n",
       "      <td>0.3</td>\n",
       "      <td>0.4</td>\n",
       "      <td>0.4</td>\n",
       "      <td>0.45</td>\n",
       "      <td>0.6</td>\n",
       "    </tr>\n",
       "    <tr>\n",
       "      <td>10607</td>\n",
       "      <td>41c3a81e-ad97-410a-8120-11338778f038</td>\n",
       "      <td>context_8106</td>\n",
       "      <td>ad_1</td>\n",
       "      <td>0</td>\n",
       "      <td>0.8</td>\n",
       "      <td>0.7</td>\n",
       "      <td>0.6</td>\n",
       "      <td>0.5</td>\n",
       "      <td>0.5</td>\n",
       "      <td>0.4</td>\n",
       "      <td>0.4</td>\n",
       "      <td>0.3</td>\n",
       "      <td>0.20</td>\n",
       "      <td>0.2</td>\n",
       "    </tr>\n",
       "    <tr>\n",
       "      <td>6002</td>\n",
       "      <td>5349257b-d982-4692-baea-b19a2fe6cbbb</td>\n",
       "      <td>context_280</td>\n",
       "      <td>ad_0</td>\n",
       "      <td>0</td>\n",
       "      <td>0.1</td>\n",
       "      <td>0.1</td>\n",
       "      <td>0.2</td>\n",
       "      <td>0.2</td>\n",
       "      <td>0.3</td>\n",
       "      <td>0.3</td>\n",
       "      <td>0.4</td>\n",
       "      <td>0.4</td>\n",
       "      <td>0.45</td>\n",
       "      <td>0.6</td>\n",
       "    </tr>\n",
       "  </tbody>\n",
       "</table>\n",
       "</div>"
      ],
      "text/plain": [
       "                                     log_id    context_id selected_ad  \\\n",
       "16401  512ac352-81fe-4d52-963f-5df145863c26  context_9307        ad_1   \n",
       "29261  c51124be-c191-44ba-b6dd-fc196ad1fb8c  context_9576        ad_0   \n",
       "98230  b1c05d5c-f334-42a3-a5a9-68eb04383006  context_3620        ad_1   \n",
       "64210  ea4755e9-c517-4387-8d64-0220dbe021c4  context_6106        ad_0   \n",
       "41240  3a771841-1f31-44eb-99f4-0860dacd174b   context_871        ad_1   \n",
       "44964  2a217956-f5a5-4e28-9bf0-f5bde74429cc  context_7114        ad_0   \n",
       "21917  1ab8c19a-2d9c-4e77-98ac-dcccc3624ebd  context_3826        ad_2   \n",
       "64111  8d903f78-3254-4c9d-b17a-bf0ec874c8df  context_3007        ad_1   \n",
       "10607  41c3a81e-ad97-410a-8120-11338778f038  context_8106        ad_1   \n",
       "6002   5349257b-d982-4692-baea-b19a2fe6cbbb   context_280        ad_0   \n",
       "\n",
       "       user_interaction  model_0  model_1  model_2  model_3  model_4  model_5  \\\n",
       "16401                 0      0.1      0.2      0.2      0.3      0.2      0.3   \n",
       "29261                 1      0.1      0.1      0.2      0.2      0.3      0.3   \n",
       "98230                 0      0.8      0.7      0.6      0.5      0.5      0.4   \n",
       "64210                 0      0.1      0.2      0.2      0.3      0.2      0.3   \n",
       "41240                 1      0.1      0.1      0.2      0.2      0.3      0.3   \n",
       "44964                 1      0.1      0.1      0.2      0.2      0.3      0.3   \n",
       "21917                 0      0.8      0.7      0.6      0.5      0.5      0.4   \n",
       "64111                 0      0.1      0.1      0.2      0.2      0.3      0.3   \n",
       "10607                 0      0.8      0.7      0.6      0.5      0.5      0.4   \n",
       "6002                  0      0.1      0.1      0.2      0.2      0.3      0.3   \n",
       "\n",
       "       model_6  model_7  model_8  model_9  \n",
       "16401      0.2      0.3     0.35      0.2  \n",
       "29261      0.4      0.4     0.45      0.6  \n",
       "98230      0.4      0.3     0.20      0.2  \n",
       "64210      0.2      0.3     0.35      0.2  \n",
       "41240      0.4      0.4     0.45      0.6  \n",
       "44964      0.4      0.4     0.45      0.6  \n",
       "21917      0.4      0.3     0.20      0.2  \n",
       "64111      0.4      0.4     0.45      0.6  \n",
       "10607      0.4      0.3     0.20      0.2  \n",
       "6002       0.4      0.4     0.45      0.6  "
      ]
     },
     "execution_count": 59,
     "metadata": {},
     "output_type": "execute_result"
    }
   ],
   "source": [
    "df_new_models_weighting.sample(10)"
   ]
  },
  {
   "cell_type": "markdown",
   "metadata": {},
   "source": [
    "We can see that for each log entry, we've computed the probability of the same ad selection as production model from all new models."
   ]
  },
  {
   "cell_type": "code",
   "execution_count": 62,
   "metadata": {},
   "outputs": [],
   "source": [
    "# match and estimate:\n",
    "estimates_weighting = []\n",
    "for i in range(len(new_model_names)):\n",
    "    model = \"model_{}\".format(i)\n",
    "    \n",
    "    # the logging policy was random so we know P(w) = 1/3\n",
    "    estimate = (df_new_models_weighting[\"user_interaction\"] * df_new_models_weighting[model] / 0.333).sum() / df_new_models_weighting.shape[0]\n",
    "    estimates_weighting.append(estimate)"
   ]
  },
  {
   "cell_type": "code",
   "execution_count": 63,
   "metadata": {},
   "outputs": [
    {
     "data": {
      "image/png": "[encoded data removed]",
      "text/plain": [
       "<Figure size 720x360 with 1 Axes>"
      ]
     },
     "metadata": {
      "needs_background": "light"
     },
     "output_type": "display_data"
    }
   ],
   "source": [
    "plt.figure(figsize=(10,5))\n",
    "plt.plot(expected_interaction_rates, label=\"expected rate\")\n",
    "plt.xticks(range(10), labels=new_model_names, rotation=30)\n",
    "plt.plot(estimates_weighting, label=\"actual rate\")\n",
    "plt.legend()\n",
    "plt.show()"
   ]
  },
  {
   "cell_type": "markdown",
   "metadata": {},
   "source": [
    "# References\n",
    "\n",
    "- Counterfactual Reasoning & Learning Systems"
   ]
  },
  {
   "cell_type": "code",
   "execution_count": null,
   "metadata": {},
   "outputs": [],
   "source": []
  }
 ],
 "metadata": {
  "kernelspec": {
   "display_name": "Python 3",
   "language": "python",
   "name": "python3"
  },
  "language_info": {
   "codemirror_mode": {
    "name": "ipython",
    "version": 3
   },
   "file_extension": ".py",
   "mimetype": "text/x-python",
   "name": "python",
   "nbconvert_exporter": "python",
   "pygments_lexer": "ipython3",
   "version": "3.7.4"
  }
 },
 "nbformat": 4,
 "nbformat_minor": 4
}
