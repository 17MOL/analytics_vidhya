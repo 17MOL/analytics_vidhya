{
 "cells": [
  {
   "cell_type": "markdown",
   "metadata": {},
   "source": [
    "# Unbiased Offline Estimates of Online Metrics\n",
    "### Author: aarshay jain"
   ]
  },
  {
   "cell_type": "markdown",
   "metadata": {},
   "source": [
    "# Introduction / Motivation\n",
    "\n",
    "If my offline model has a better AUC than the production, is it necessarily better for the business? Does a higher AUC, imply improvement in business metrics? How much improvement in AUC is good enough to attemp to deploy a new model and run an A/B test?\n",
    "\n",
    "These are some of the common questions which torment ML practitioners in there daily jobs, specially when building user facing ML products. Some common scenarios behind these concerns are:\n",
    "- ML applications are trying to drive a product which is judged by business metrics like click rates, revenue, engagement, etc. These are dependent on user feedback/interaction in some form which is hard to estimate offline.\n",
    "- ML models are typically deployed along with some business heuristics which control how the model output translates to product action like which song to play or which ad to show.\n",
    "- Many applications chain predictions from multiple models to take an action. For example, the decision of which ad to show could depend on ML models for click rate predictions and demand forecasts along with business constraints like inventory and user eligibility.\n",
    "\n",
    "In such scenarios, typical ML metrics like accuracy, auc-roc, precision-recall etc for individual models are generally not enough to tell whether an offline model is better than the model in production. A/B tests are typically used to do such evaluation but the are expensive to run both in terms of cost and time. Counterfactual Evaluation provides a methodology of using production logs to estimate the online metrics like click rate, revenue, etc. These could act as a first filter on offline models to help decide which ones to test in product using an A/B test."
   ]
  },
  {
   "cell_type": "markdown",
   "metadata": {},
   "source": [
    "# Advertising Example\n",
    "\n",
    "Counterfactual evaluation techniques are inspired from causal inference literature. Lets take an example from advertising world to understand this better. Consider 2 sides of the scenario:\n",
    "- User side - user visits a website and receives an ad; if the user likes the ad, they clicks on the ad otherwise not\n",
    "- Business side - an ML system receives a request with current user context and picks an ad\n",
    "\n",
    "This system can be defined using the following variables:\n",
    "- u: user-intent\n",
    "    A user visits the website with some intent. Eg, user visits amazon.com to buy a shoe\n",
    "- x: user-context\n",
    "    User starts browsing on the website and their activity is packaged as a context vector\n",
    "- v: inventory\n",
    "    Inventory of all ads available to show\n",
    "- b: bids\n",
    "    A system which bids a price per click for ads from the ad inventory\n",
    "- a: selected_ad\n",
    "    A final ad will be selected based on the bids and click estimates\n",
    "- y: click\n",
    "    Binary 1 if user clicks on ad and 0 otherwise\n",
    "- z:\n",
    "    Some revenue generated from the interaction\n",
    "    \n",
    "Note: This example is a sligtly toned down version of the example used in ???. The entire explanation here is a brief summary from the same resource"
   ]
  },
  {
   "cell_type": "markdown",
   "metadata": {},
   "source": [
    "## Goal\n",
    "\n",
    "In this system, lets say click rate is the business metric we're trying to maximize. Click rate is defined as the proportion of advertisements clicked by users, across user sessions. Suppose we have a production system running and now we develop a new model for selecting an ad, i.e. we have a new way of implementing variable `a`. We want to estimate the click rate of this model as compared to the production model. "
   ]
  },
  {
   "cell_type": "markdown",
   "metadata": {},
   "source": [
    "## Causal Graph\n",
    "To answer the question, lets start with creating a causal graph for the system:\n",
    "\n",
    "-- fig1: causal graph --\n",
    "\n",
    "From this graph, we can observe:\n",
    "- u,v are independent variables, also known as exogenous variables\n",
    "- x = f(u)\n",
    "- b = f(x,v)\n",
    "- a = f(x,b)\n",
    "- y = f(a,u)\n",
    "- z = f(y,b)\n",
    "\n",
    "Using these equations and graph, we can represent the join probability of the entire system as a probabilistic generative model as:\n",
    "\n",
    "$$P(w) = P(u,v).P(x|u).P(b|x,v).P(a|x,b).P(y|u,a).P(z|y)$$\n",
    "where w is the set of all variables."
   ]
  },
  {
   "cell_type": "markdown",
   "metadata": {},
   "source": [
    "## Isolation Assumption\n",
    "\n",
    "Before moving forward, lets understand one of the core assumptions in this model. Like any causal graph, this graph assumes that the exogenous variables don't have any back door path into the netwrok, i.e. there are no common cause between the exogenous variables (u,v) and other variables in the network. For example: \n",
    "\n",
    "--figure2\n",
    "\n",
    "In this figure, the causal path represented in red are back door paths which invalidate the previously defined system of equations. Another way of stating this assumption is that saying we assume all observations of exogenous variables are independentally sampled from an unknown but fixed joint distribution. This is the isolation assumption. Most causal grahs make this assumption and we might be able to argue practical back door paths which are not accounted for because such causes cannot be measured/modeled. But it is important to be aware that this assumption is being made."
   ]
  },
  {
   "cell_type": "markdown",
   "metadata": {},
   "source": [
    "## Modeling Interventions \n",
    "\n",
    "This system of equations allows us to model interventions as algebraic manipulations i.e. we can change some interim distributions and model a different output for a given input. Refer to Pearl's do-calculus for more details. \n"
   ]
  },
  {
   "cell_type": "markdown",
   "metadata": {},
   "source": [
    "# Counterfactual Analysis\n",
    "\n",
    "## What is Counterfactual?\n",
    "\n",
    "The question \"what would happen if we replace a current model M with a new model M'\" is counterfactual in the sense that we are not actually making the change and impacting user experience. We are just trying to estimate business metrics in the scenario when we would actually deploy the model M'. \n",
    "\n",
    "## Analogy to traditional ML\n",
    "\n",
    "While training models in a supervised learning setting, we use some independent variables x and true labels y then we try to estimate y as y' = f(x). y' is kind of a counterfactual estimate of what would happend if instead of the system generating the data the model f(x) was used. Then we define a loss function and optimize the model. All this works because f(x) is fully defined which is not the case in our problem i.e. there is no way to know how a user would have interacted if a different ad would shown. "
   ]
  },
  {
   "cell_type": "markdown",
   "metadata": {},
   "source": [
    "# Markov Factor Replacement\n",
    "\n",
    "Now lets try to perform algebraic manipulations in our system of equation. Say we have a new model M' for selection of an ad gived bids. This will impact just one component of the equation:\n",
    "\n",
    "$$P(a|x,b) -> P'(a|x,b)$$\n",
    "\n",
    "The click rate of the system can be defined as:\n",
    "\n"
   ]
  },
  {
   "cell_type": "markdown",
   "metadata": {},
   "source": [
    "# Simulation \n",
    "\n",
    "Let's try to understand this using a similuated example, similar to the one we've been working with:\n",
    "- We have 3 ads in inventory, valid for all user contexts\n",
    "- We simulate N number of user contexts, each with a different click probability on one of the ads\n",
    "- We collect some online data by serving ads randomly to users in different contexts and observing click behavior. Random serving is a good way to collect unbiased online data to evaluate online models and should be adopted when possible."
   ]
  },
  {
   "cell_type": "code",
   "execution_count": 1,
   "metadata": {},
   "outputs": [],
   "source": [
    "import numpy as np\n",
    "import pandas as pd\n",
    "import matplotlib.pylab as plt\n",
    "%matplotlib inline"
   ]
  },
  {
   "cell_type": "markdown",
   "metadata": {},
   "source": [
    "## 1. Data Preparation\n",
    "\n",
    "### User Contexts\n",
    "Lets start by defining some 10K user context ids and define a probability distribution on their occurence, i.e. sum contexts are more likely to repeat than others"
   ]
  },
  {
   "cell_type": "code",
   "execution_count": 2,
   "metadata": {},
   "outputs": [],
   "source": [
    "# set user contexts\n",
    "num_contexts = 10000\n",
    "user_contexts = np.asarray([\"context_{}\".format(i) for i in range(num_contexts)])"
   ]
  },
  {
   "cell_type": "code",
   "execution_count": 12,
   "metadata": {},
   "outputs": [
    {
     "data": {
      "image/png": "[encoded data removed]",
      "text/plain": [
       "<Figure size 432x288 with 1 Axes>"
      ]
     },
     "metadata": {
      "needs_background": "light"
     },
     "output_type": "display_data"
    }
   ],
   "source": [
    "# assign selection prior to these contexts\n",
    "def random_normal_sample_sum_to_1(size):\n",
    "    sample = np.random.normal(0, 1, size)\n",
    "    sample_adjusted = sample - sample.min()\n",
    "    return sample_adjusted / sample_adjusted.sum()\n",
    "user_context_selection_prior = random_normal_sample_sum_to_1(num_contexts)\n",
    "plt.hist(user_context_selection_prior, bins=100)\n",
    "assert user_context_selection_prior.sum().round(2) == 1.0"
   ]
  },
  {
   "cell_type": "markdown",
   "metadata": {},
   "source": [
    "### Click Rate Per Context\n",
    "Lets define 3 ads in our inventory. For sake of simplicity, lets say the click rate for a given ad in a given context can be one of:\n",
    "- Low: 10%\n",
    "- Medium: 40%\n",
    "- High: 60%\n",
    "\n",
    "Then we can randomly assign which of the ads is low/med/high in which context"
   ]
  },
  {
   "cell_type": "code",
   "execution_count": 13,
   "metadata": {},
   "outputs": [],
   "source": [
    "# set ads\n",
    "num_ads = 3\n",
    "ads = np.asarray([\"ad_{}\".format(i) for i in range(num_ads)])"
   ]
  },
  {
   "cell_type": "code",
   "execution_count": 37,
   "metadata": {},
   "outputs": [],
   "source": [
    "# assign random priors to contexts\n",
    "ad_interaction_priors = np.asarray([0.1, 0.3, 0.6])\n",
    "user_context_priors = {context:np.random.permutation(ad_interaction_priors) for context in user_contexts}"
   ]
  },
  {
   "cell_type": "markdown",
   "metadata": {},
   "source": [
    "## 2. Random Data Collection\n",
    "Now we'll simulate 100K iterations where one of the 10K user contexts is given as input to the model, a random ad is served and based on the click prior for that ad in that context, an action of click or no click is sampled."
   ]
  },
  {
   "cell_type": "code",
   "execution_count": 16,
   "metadata": {},
   "outputs": [],
   "source": [
    "from uuid import uuid4"
   ]
  },
  {
   "cell_type": "code",
   "execution_count": 15,
   "metadata": {},
   "outputs": [],
   "source": [
    "num_iterations = 100000"
   ]
  },
  {
   "cell_type": "code",
   "execution_count": 17,
   "metadata": {},
   "outputs": [],
   "source": [
    "# create empty df for storing logs\n",
    "df_random_serving = pd.DataFrame(\n",
    "    columns = [\"id\", \"context_id\", \"selected_ad\", \"user_interaction\"]\n",
    ")\n",
    "\n",
    "# create unique ID for each log entry\n",
    "df_random_serving[\"id\"] = [uuid4() for _ in range(num_iterations)]\n",
    "\n",
    "# assign a context id to each log entry\n",
    "df_random_serving[\"context_id\"] = np.random.choice(user_contexts, size=num_iterations, replace=True, p=user_context_selection_prior)\n",
    "\n",
    "# randomly sample an ad to show in that context\n",
    "df_random_serving[\"selected_ad\"] = np.random.choice(ads, size=num_iterations, replace=True)"
   ]
  },
  {
   "cell_type": "code",
   "execution_count": 38,
   "metadata": {},
   "outputs": [],
   "source": [
    "# for each log entry, sample an action or click or not using the click probability assigned to the context-ad pair in step 1\n",
    "def sample_action_for_ad(context_id, ad_id):\n",
    "    prior = user_context_priors.get(context_id)[np.where(ads == ad_id)[0][0]]\n",
    "    return np.random.binomial(1, prior)\n",
    "df_random_serving[\"user_interaction\"] = df_random_serving.apply(lambda x: sample_action_for_ad(x[\"context_id\"], x[\"selected_ad\"]), axis=1)"
   ]
  },
  {
   "cell_type": "code",
   "execution_count": 39,
   "metadata": {},
   "outputs": [
    {
     "data": {
      "text/html": [
       "<div>\n",
       "<style scoped>\n",
       "    .dataframe tbody tr th:only-of-type {\n",
       "        vertical-align: middle;\n",
       "    }\n",
       "\n",
       "    .dataframe tbody tr th {\n",
       "        vertical-align: top;\n",
       "    }\n",
       "\n",
       "    .dataframe thead th {\n",
       "        text-align: right;\n",
       "    }\n",
       "</style>\n",
       "<table border=\"1\" class=\"dataframe\">\n",
       "  <thead>\n",
       "    <tr style=\"text-align: right;\">\n",
       "      <th></th>\n",
       "      <th>id</th>\n",
       "      <th>context_id</th>\n",
       "      <th>selected_ad</th>\n",
       "      <th>user_interaction</th>\n",
       "    </tr>\n",
       "  </thead>\n",
       "  <tbody>\n",
       "    <tr>\n",
       "      <th>94702</th>\n",
       "      <td>590effe4-d2da-462f-b143-ec0fe71a7449</td>\n",
       "      <td>context_3006</td>\n",
       "      <td>ad_2</td>\n",
       "      <td>1</td>\n",
       "    </tr>\n",
       "    <tr>\n",
       "      <th>30702</th>\n",
       "      <td>6ab87741-1137-4f64-b69a-9662b436456a</td>\n",
       "      <td>context_9416</td>\n",
       "      <td>ad_2</td>\n",
       "      <td>0</td>\n",
       "    </tr>\n",
       "    <tr>\n",
       "      <th>39806</th>\n",
       "      <td>14a208ba-c51b-4b21-aa44-f95d96f72082</td>\n",
       "      <td>context_5532</td>\n",
       "      <td>ad_1</td>\n",
       "      <td>0</td>\n",
       "    </tr>\n",
       "    <tr>\n",
       "      <th>84175</th>\n",
       "      <td>cd945827-8cdc-4f11-b5aa-74dcab163588</td>\n",
       "      <td>context_6631</td>\n",
       "      <td>ad_0</td>\n",
       "      <td>1</td>\n",
       "    </tr>\n",
       "    <tr>\n",
       "      <th>39037</th>\n",
       "      <td>7688990e-7661-405d-8ace-b20a5e4776d3</td>\n",
       "      <td>context_8070</td>\n",
       "      <td>ad_1</td>\n",
       "      <td>0</td>\n",
       "    </tr>\n",
       "    <tr>\n",
       "      <th>30926</th>\n",
       "      <td>4534ebb6-6626-42b1-bdd9-ea6f5bd7ac7f</td>\n",
       "      <td>context_5771</td>\n",
       "      <td>ad_1</td>\n",
       "      <td>0</td>\n",
       "    </tr>\n",
       "    <tr>\n",
       "      <th>57728</th>\n",
       "      <td>4adce01b-7e44-420e-9444-c5e70d61ecc9</td>\n",
       "      <td>context_7188</td>\n",
       "      <td>ad_2</td>\n",
       "      <td>0</td>\n",
       "    </tr>\n",
       "    <tr>\n",
       "      <th>93241</th>\n",
       "      <td>eb2d37b3-12fe-4788-9fac-4ba9e9060f1b</td>\n",
       "      <td>context_1407</td>\n",
       "      <td>ad_1</td>\n",
       "      <td>1</td>\n",
       "    </tr>\n",
       "    <tr>\n",
       "      <th>96326</th>\n",
       "      <td>3a035b70-dcc9-48d4-943d-e3d73312ed96</td>\n",
       "      <td>context_9935</td>\n",
       "      <td>ad_1</td>\n",
       "      <td>0</td>\n",
       "    </tr>\n",
       "    <tr>\n",
       "      <th>7053</th>\n",
       "      <td>fc022b4e-a180-4a70-9fb4-b6f6701b4e7d</td>\n",
       "      <td>context_8301</td>\n",
       "      <td>ad_2</td>\n",
       "      <td>1</td>\n",
       "    </tr>\n",
       "    <tr>\n",
       "      <th>67672</th>\n",
       "      <td>c3227c23-36b5-4682-9d7a-02691e42f61e</td>\n",
       "      <td>context_7894</td>\n",
       "      <td>ad_0</td>\n",
       "      <td>0</td>\n",
       "    </tr>\n",
       "    <tr>\n",
       "      <th>37225</th>\n",
       "      <td>ac026949-1540-4787-b59c-9709a4938fb2</td>\n",
       "      <td>context_1433</td>\n",
       "      <td>ad_2</td>\n",
       "      <td>0</td>\n",
       "    </tr>\n",
       "    <tr>\n",
       "      <th>65723</th>\n",
       "      <td>95e1cfac-8e06-4cdf-b074-3e85b3114a41</td>\n",
       "      <td>context_791</td>\n",
       "      <td>ad_0</td>\n",
       "      <td>0</td>\n",
       "    </tr>\n",
       "    <tr>\n",
       "      <th>76464</th>\n",
       "      <td>824d1e3f-ae66-4293-af40-be979b786cb5</td>\n",
       "      <td>context_7232</td>\n",
       "      <td>ad_0</td>\n",
       "      <td>0</td>\n",
       "    </tr>\n",
       "    <tr>\n",
       "      <th>40077</th>\n",
       "      <td>b068007e-7ce3-4f18-9594-1377be39b4d9</td>\n",
       "      <td>context_9542</td>\n",
       "      <td>ad_2</td>\n",
       "      <td>0</td>\n",
       "    </tr>\n",
       "    <tr>\n",
       "      <th>3039</th>\n",
       "      <td>719d19ab-1f43-426c-a07c-e552e178c946</td>\n",
       "      <td>context_7556</td>\n",
       "      <td>ad_1</td>\n",
       "      <td>0</td>\n",
       "    </tr>\n",
       "    <tr>\n",
       "      <th>44656</th>\n",
       "      <td>37cbec4b-cfa1-4549-ab79-9f7da390b753</td>\n",
       "      <td>context_9841</td>\n",
       "      <td>ad_1</td>\n",
       "      <td>1</td>\n",
       "    </tr>\n",
       "    <tr>\n",
       "      <th>37777</th>\n",
       "      <td>0197127e-0cbc-4e2c-ad8a-5855bfe118f9</td>\n",
       "      <td>context_8768</td>\n",
       "      <td>ad_1</td>\n",
       "      <td>0</td>\n",
       "    </tr>\n",
       "    <tr>\n",
       "      <th>77177</th>\n",
       "      <td>21c00d4a-4350-4a02-b24e-3eb2e18fb8a3</td>\n",
       "      <td>context_9561</td>\n",
       "      <td>ad_0</td>\n",
       "      <td>1</td>\n",
       "    </tr>\n",
       "    <tr>\n",
       "      <th>34738</th>\n",
       "      <td>a0c57b4d-55d8-4250-8007-806d4f083da5</td>\n",
       "      <td>context_1659</td>\n",
       "      <td>ad_1</td>\n",
       "      <td>1</td>\n",
       "    </tr>\n",
       "  </tbody>\n",
       "</table>\n",
       "</div>"
      ],
      "text/plain": [
       "                                         id    context_id selected_ad  \\\n",
       "94702  590effe4-d2da-462f-b143-ec0fe71a7449  context_3006        ad_2   \n",
       "30702  6ab87741-1137-4f64-b69a-9662b436456a  context_9416        ad_2   \n",
       "39806  14a208ba-c51b-4b21-aa44-f95d96f72082  context_5532        ad_1   \n",
       "84175  cd945827-8cdc-4f11-b5aa-74dcab163588  context_6631        ad_0   \n",
       "39037  7688990e-7661-405d-8ace-b20a5e4776d3  context_8070        ad_1   \n",
       "30926  4534ebb6-6626-42b1-bdd9-ea6f5bd7ac7f  context_5771        ad_1   \n",
       "57728  4adce01b-7e44-420e-9444-c5e70d61ecc9  context_7188        ad_2   \n",
       "93241  eb2d37b3-12fe-4788-9fac-4ba9e9060f1b  context_1407        ad_1   \n",
       "96326  3a035b70-dcc9-48d4-943d-e3d73312ed96  context_9935        ad_1   \n",
       "7053   fc022b4e-a180-4a70-9fb4-b6f6701b4e7d  context_8301        ad_2   \n",
       "67672  c3227c23-36b5-4682-9d7a-02691e42f61e  context_7894        ad_0   \n",
       "37225  ac026949-1540-4787-b59c-9709a4938fb2  context_1433        ad_2   \n",
       "65723  95e1cfac-8e06-4cdf-b074-3e85b3114a41   context_791        ad_0   \n",
       "76464  824d1e3f-ae66-4293-af40-be979b786cb5  context_7232        ad_0   \n",
       "40077  b068007e-7ce3-4f18-9594-1377be39b4d9  context_9542        ad_2   \n",
       "3039   719d19ab-1f43-426c-a07c-e552e178c946  context_7556        ad_1   \n",
       "44656  37cbec4b-cfa1-4549-ab79-9f7da390b753  context_9841        ad_1   \n",
       "37777  0197127e-0cbc-4e2c-ad8a-5855bfe118f9  context_8768        ad_1   \n",
       "77177  21c00d4a-4350-4a02-b24e-3eb2e18fb8a3  context_9561        ad_0   \n",
       "34738  a0c57b4d-55d8-4250-8007-806d4f083da5  context_1659        ad_1   \n",
       "\n",
       "       user_interaction  \n",
       "94702                 1  \n",
       "30702                 0  \n",
       "39806                 0  \n",
       "84175                 1  \n",
       "39037                 0  \n",
       "30926                 0  \n",
       "57728                 0  \n",
       "93241                 1  \n",
       "96326                 0  \n",
       "7053                  1  \n",
       "67672                 0  \n",
       "37225                 0  \n",
       "65723                 0  \n",
       "76464                 0  \n",
       "40077                 0  \n",
       "3039                  0  \n",
       "44656                 1  \n",
       "37777                 0  \n",
       "77177                 1  \n",
       "34738                 1  "
      ]
     },
     "execution_count": 39,
     "metadata": {},
     "output_type": "execute_result"
    }
   ],
   "source": [
    "# a snapshot of the data\n",
    "df_random_serving.sample(20)"
   ]
  },
  {
   "cell_type": "markdown",
   "metadata": {},
   "source": [
    "We will use this as our logged data and test new models against this"
   ]
  },
  {
   "cell_type": "markdown",
   "metadata": {},
   "source": [
    "## 3. New Model estimation\n",
    "\n",
    "### Define models\n",
    "\n",
    "Now lets define some models for which we can establish an intuition of order of performance on click rate. One way to do so is to set priors on the likelihood of picking the low/med/high ad using a vector \\[p_low, p_med, p_high\\] for a given context. We can intuitively say that the models with a higher likelihood of picking more performant ads for a context will work better. Note that this is not how an actual model would work. But here we're trying to simulate the output of different models.\n",
    "\n",
    "Here's a group of 10 models with increasing expected performance:"
   ]
  },
  {
   "cell_type": "code",
   "execution_count": 23,
   "metadata": {},
   "outputs": [],
   "source": [
    "new_policy_priors = np.atleast_2d([\n",
    "    [0.8, 0.1, 0.1],\n",
    "    [0.7, 0.2, 0.1],\n",
    "    [0.6, 0.2, 0.2],\n",
    "    [0.5, 0.3, 0.2],\n",
    "    [0.5, 0.2, 0.3],\n",
    "    [0.4, 0.3, 0.3],\n",
    "    [0.4, 0.2, 0.4],\n",
    "    [0.3, 0.3, 0.4],\n",
    "    [0.2, 0.35, 0.45],\n",
    "    [0.2, 0.2, 0.6]\n",
    "])"
   ]
  },
  {
   "cell_type": "markdown",
   "metadata": {},
   "source": [
    "For clarification, lets see this as a dataframe:"
   ]
  },
  {
   "cell_type": "code",
   "execution_count": 23,
   "metadata": {},
   "outputs": [
    {
     "data": {
      "text/html": [
       "<div>\n",
       "<style scoped>\n",
       "    .dataframe tbody tr th:only-of-type {\n",
       "        vertical-align: middle;\n",
       "    }\n",
       "\n",
       "    .dataframe tbody tr th {\n",
       "        vertical-align: top;\n",
       "    }\n",
       "\n",
       "    .dataframe thead th {\n",
       "        text-align: right;\n",
       "    }\n",
       "</style>\n",
       "<table border=\"1\" class=\"dataframe\">\n",
       "  <thead>\n",
       "    <tr style=\"text-align: right;\">\n",
       "      <th></th>\n",
       "      <th>policy_id</th>\n",
       "      <th>prob_low</th>\n",
       "      <th>prob_med</th>\n",
       "      <th>prob_high</th>\n",
       "    </tr>\n",
       "  </thead>\n",
       "  <tbody>\n",
       "    <tr>\n",
       "      <th>0</th>\n",
       "      <td>policy_0</td>\n",
       "      <td>0.8</td>\n",
       "      <td>0.1</td>\n",
       "      <td>0.1</td>\n",
       "    </tr>\n",
       "    <tr>\n",
       "      <th>1</th>\n",
       "      <td>policy_1</td>\n",
       "      <td>0.7</td>\n",
       "      <td>0.2</td>\n",
       "      <td>0.1</td>\n",
       "    </tr>\n",
       "    <tr>\n",
       "      <th>2</th>\n",
       "      <td>policy_2</td>\n",
       "      <td>0.6</td>\n",
       "      <td>0.2</td>\n",
       "      <td>0.2</td>\n",
       "    </tr>\n",
       "    <tr>\n",
       "      <th>3</th>\n",
       "      <td>policy_3</td>\n",
       "      <td>0.5</td>\n",
       "      <td>0.3</td>\n",
       "      <td>0.2</td>\n",
       "    </tr>\n",
       "    <tr>\n",
       "      <th>4</th>\n",
       "      <td>policy_4</td>\n",
       "      <td>0.5</td>\n",
       "      <td>0.2</td>\n",
       "      <td>0.3</td>\n",
       "    </tr>\n",
       "    <tr>\n",
       "      <th>5</th>\n",
       "      <td>policy_5</td>\n",
       "      <td>0.4</td>\n",
       "      <td>0.3</td>\n",
       "      <td>0.3</td>\n",
       "    </tr>\n",
       "    <tr>\n",
       "      <th>6</th>\n",
       "      <td>policy_6</td>\n",
       "      <td>0.4</td>\n",
       "      <td>0.2</td>\n",
       "      <td>0.4</td>\n",
       "    </tr>\n",
       "    <tr>\n",
       "      <th>7</th>\n",
       "      <td>policy_7</td>\n",
       "      <td>0.3</td>\n",
       "      <td>0.3</td>\n",
       "      <td>0.4</td>\n",
       "    </tr>\n",
       "    <tr>\n",
       "      <th>8</th>\n",
       "      <td>policy_8</td>\n",
       "      <td>0.2</td>\n",
       "      <td>0.35</td>\n",
       "      <td>0.45</td>\n",
       "    </tr>\n",
       "    <tr>\n",
       "      <th>9</th>\n",
       "      <td>policy_9</td>\n",
       "      <td>0.2</td>\n",
       "      <td>0.2</td>\n",
       "      <td>0.6</td>\n",
       "    </tr>\n",
       "  </tbody>\n",
       "</table>\n",
       "</div>"
      ],
      "text/plain": [
       "  policy_id prob_low prob_med prob_high\n",
       "0  policy_0      0.8      0.1       0.1\n",
       "1  policy_1      0.7      0.2       0.1\n",
       "2  policy_2      0.6      0.2       0.2\n",
       "3  policy_3      0.5      0.3       0.2\n",
       "4  policy_4      0.5      0.2       0.3\n",
       "5  policy_5      0.4      0.3       0.3\n",
       "6  policy_6      0.4      0.2       0.4\n",
       "7  policy_7      0.3      0.3       0.4\n",
       "8  policy_8      0.2     0.35      0.45\n",
       "9  policy_9      0.2      0.2       0.6"
      ]
     },
     "execution_count": 23,
     "metadata": {},
     "output_type": "execute_result"
    }
   ],
   "source": [
    "new_policy_names = np.asarray([\"model_{}\".format(i) for i in range(new_policy_priors.shape[0])])\n",
    "pd.DataFrame(\n",
    "    data=np.hstack([np.atleast_2d(new_policy_names).T, new_policy_priors]),\n",
    "    columns=[\"policy_id\", \"prob_low\", \"prob_med\", \"prob_high\"]\n",
    ")"
   ]
  },
  {
   "cell_type": "markdown",
   "metadata": {},
   "source": [
    "One nice feature of defining a model in this way is that we can calculate the expected click rate of each model. Since a model is a set of priors on picking a low/med/high ad and we have already fixed the interaction rates of low/med/high ads, we can just take a dot product to estimate the click rate:"
   ]
  },
  {
   "cell_type": "code",
   "execution_count": 49,
   "metadata": {},
   "outputs": [],
   "source": [
    "# expected interaction rate:\n",
    "expected_interaction_rates = np.dot(new_policy_priors, np.atleast_2d(ad_interaction_priors).T)\n",
    "expected_interaction_rates"
   ]
  },
  {
   "cell_type": "markdown",
   "metadata": {},
   "source": [
    "We can see that expected click rates are in the order that we expect. Now we'll try to sample ad selections using each policy and use the counterfactual technique learned above to see if can estimate these click rates just using the logged data and sampled outcomes from each model"
   ]
  },
  {
   "cell_type": "markdown",
   "metadata": {},
   "source": [
    "### Estimate click rate"
   ]
  },
  {
   "cell_type": "code",
   "execution_count": 41,
   "metadata": {},
   "outputs": [],
   "source": [
    "# seed it with same context ids:\n",
    "df_new_policies = df_random_serving[[\"id\", \"context_id\"]]"
   ]
  },
  {
   "cell_type": "code",
   "execution_count": 52,
   "metadata": {},
   "outputs": [],
   "source": [
    "def sample_ad_for_context_n_model(context_id, model_priors):\n",
    "    interaction_priors = user_context_priors.get(context_id)\n",
    "    selection_priors = model_priors[np.argsort(np.argsort(interaction_priors))]\n",
    "    selected_ad = np.random.choice(ads, None, replace=False, p=selection_priors)\n",
    "    selected_ad_prior = selection_priors[ads.tolist().index(selected_ad)]\n",
    "    return selected_ad, selected_ad_prior\n",
    "\n",
    "for policy_name, policy_prior in zip(new_policy_names, new_policy_priors):\n",
    "    df_new_policies.loc[:, policy_name] = df_new_policies[\"context_id\"].apply(lambda x: sample_ad_for_context_n_model(x, policy_prior))"
   ]
  },
  {
   "cell_type": "code",
   "execution_count": 53,
   "metadata": {},
   "outputs": [
    {
     "data": {
      "text/html": [
       "<div>\n",
       "<style scoped>\n",
       "    .dataframe tbody tr th:only-of-type {\n",
       "        vertical-align: middle;\n",
       "    }\n",
       "\n",
       "    .dataframe tbody tr th {\n",
       "        vertical-align: top;\n",
       "    }\n",
       "\n",
       "    .dataframe thead th {\n",
       "        text-align: right;\n",
       "    }\n",
       "</style>\n",
       "<table border=\"1\" class=\"dataframe\">\n",
       "  <thead>\n",
       "    <tr style=\"text-align: right;\">\n",
       "      <th></th>\n",
       "      <th>id</th>\n",
       "      <th>context_id</th>\n",
       "      <th>policy_0</th>\n",
       "      <th>policy_1</th>\n",
       "      <th>policy_2</th>\n",
       "      <th>policy_3</th>\n",
       "      <th>policy_4</th>\n",
       "      <th>policy_5</th>\n",
       "      <th>policy_6</th>\n",
       "      <th>policy_7</th>\n",
       "      <th>policy_8</th>\n",
       "      <th>policy_9</th>\n",
       "    </tr>\n",
       "  </thead>\n",
       "  <tbody>\n",
       "    <tr>\n",
       "      <th>0</th>\n",
       "      <td>ece17377-ecb5-4fde-a9e4-d0a990b069f9</td>\n",
       "      <td>context_7958</td>\n",
       "      <td>(ad_1, 0.1)</td>\n",
       "      <td>(ad_2, 0.7)</td>\n",
       "      <td>(ad_0, 0.2)</td>\n",
       "      <td>(ad_1, 0.3)</td>\n",
       "      <td>(ad_2, 0.5)</td>\n",
       "      <td>(ad_2, 0.4)</td>\n",
       "      <td>(ad_2, 0.4)</td>\n",
       "      <td>(ad_0, 0.4)</td>\n",
       "      <td>(ad_0, 0.45)</td>\n",
       "      <td>(ad_1, 0.2)</td>\n",
       "    </tr>\n",
       "    <tr>\n",
       "      <th>1</th>\n",
       "      <td>79888140-48dd-4727-8c45-58a38aef9dff</td>\n",
       "      <td>context_3687</td>\n",
       "      <td>(ad_0, 0.8)</td>\n",
       "      <td>(ad_0, 0.7)</td>\n",
       "      <td>(ad_0, 0.6)</td>\n",
       "      <td>(ad_1, 0.3)</td>\n",
       "      <td>(ad_1, 0.2)</td>\n",
       "      <td>(ad_1, 0.3)</td>\n",
       "      <td>(ad_1, 0.2)</td>\n",
       "      <td>(ad_2, 0.4)</td>\n",
       "      <td>(ad_2, 0.45)</td>\n",
       "      <td>(ad_1, 0.2)</td>\n",
       "    </tr>\n",
       "    <tr>\n",
       "      <th>2</th>\n",
       "      <td>5cb0e8e7-9979-4d24-9e92-31d2debf726c</td>\n",
       "      <td>context_3180</td>\n",
       "      <td>(ad_0, 0.8)</td>\n",
       "      <td>(ad_0, 0.7)</td>\n",
       "      <td>(ad_1, 0.2)</td>\n",
       "      <td>(ad_0, 0.5)</td>\n",
       "      <td>(ad_2, 0.2)</td>\n",
       "      <td>(ad_2, 0.3)</td>\n",
       "      <td>(ad_2, 0.2)</td>\n",
       "      <td>(ad_0, 0.3)</td>\n",
       "      <td>(ad_2, 0.35)</td>\n",
       "      <td>(ad_1, 0.6)</td>\n",
       "    </tr>\n",
       "    <tr>\n",
       "      <th>3</th>\n",
       "      <td>a4ac61b6-bcf9-4e1f-b81f-bf4385719d24</td>\n",
       "      <td>context_7332</td>\n",
       "      <td>(ad_2, 0.8)</td>\n",
       "      <td>(ad_1, 0.1)</td>\n",
       "      <td>(ad_2, 0.6)</td>\n",
       "      <td>(ad_2, 0.5)</td>\n",
       "      <td>(ad_2, 0.5)</td>\n",
       "      <td>(ad_0, 0.3)</td>\n",
       "      <td>(ad_1, 0.4)</td>\n",
       "      <td>(ad_2, 0.3)</td>\n",
       "      <td>(ad_2, 0.2)</td>\n",
       "      <td>(ad_0, 0.2)</td>\n",
       "    </tr>\n",
       "    <tr>\n",
       "      <th>4</th>\n",
       "      <td>dd1a1073-f49d-49cf-9093-db7c29310c1b</td>\n",
       "      <td>context_9183</td>\n",
       "      <td>(ad_0, 0.8)</td>\n",
       "      <td>(ad_0, 0.7)</td>\n",
       "      <td>(ad_0, 0.6)</td>\n",
       "      <td>(ad_0, 0.5)</td>\n",
       "      <td>(ad_2, 0.3)</td>\n",
       "      <td>(ad_1, 0.3)</td>\n",
       "      <td>(ad_1, 0.2)</td>\n",
       "      <td>(ad_2, 0.4)</td>\n",
       "      <td>(ad_2, 0.45)</td>\n",
       "      <td>(ad_2, 0.6)</td>\n",
       "    </tr>\n",
       "  </tbody>\n",
       "</table>\n",
       "</div>"
      ],
      "text/plain": [
       "                                     id    context_id     policy_0  \\\n",
       "0  ece17377-ecb5-4fde-a9e4-d0a990b069f9  context_7958  (ad_1, 0.1)   \n",
       "1  79888140-48dd-4727-8c45-58a38aef9dff  context_3687  (ad_0, 0.8)   \n",
       "2  5cb0e8e7-9979-4d24-9e92-31d2debf726c  context_3180  (ad_0, 0.8)   \n",
       "3  a4ac61b6-bcf9-4e1f-b81f-bf4385719d24  context_7332  (ad_2, 0.8)   \n",
       "4  dd1a1073-f49d-49cf-9093-db7c29310c1b  context_9183  (ad_0, 0.8)   \n",
       "\n",
       "      policy_1     policy_2     policy_3     policy_4     policy_5  \\\n",
       "0  (ad_2, 0.7)  (ad_0, 0.2)  (ad_1, 0.3)  (ad_2, 0.5)  (ad_2, 0.4)   \n",
       "1  (ad_0, 0.7)  (ad_0, 0.6)  (ad_1, 0.3)  (ad_1, 0.2)  (ad_1, 0.3)   \n",
       "2  (ad_0, 0.7)  (ad_1, 0.2)  (ad_0, 0.5)  (ad_2, 0.2)  (ad_2, 0.3)   \n",
       "3  (ad_1, 0.1)  (ad_2, 0.6)  (ad_2, 0.5)  (ad_2, 0.5)  (ad_0, 0.3)   \n",
       "4  (ad_0, 0.7)  (ad_0, 0.6)  (ad_0, 0.5)  (ad_2, 0.3)  (ad_1, 0.3)   \n",
       "\n",
       "      policy_6     policy_7      policy_8     policy_9  \n",
       "0  (ad_2, 0.4)  (ad_0, 0.4)  (ad_0, 0.45)  (ad_1, 0.2)  \n",
       "1  (ad_1, 0.2)  (ad_2, 0.4)  (ad_2, 0.45)  (ad_1, 0.2)  \n",
       "2  (ad_2, 0.2)  (ad_0, 0.3)  (ad_2, 0.35)  (ad_1, 0.6)  \n",
       "3  (ad_1, 0.4)  (ad_2, 0.3)   (ad_2, 0.2)  (ad_0, 0.2)  \n",
       "4  (ad_1, 0.2)  (ad_2, 0.4)  (ad_2, 0.45)  (ad_2, 0.6)  "
      ]
     },
     "execution_count": 53,
     "metadata": {},
     "output_type": "execute_result"
    }
   ],
   "source": [
    "df_new_policies.head()"
   ]
  },
  {
   "cell_type": "code",
   "execution_count": 54,
   "metadata": {},
   "outputs": [
    {
     "data": {
      "text/plain": [
       "(100000, 12)"
      ]
     },
     "execution_count": 54,
     "metadata": {},
     "output_type": "execute_result"
    }
   ],
   "source": [
    "df_new_policies.shape"
   ]
  },
  {
   "cell_type": "markdown",
   "metadata": {},
   "source": [
    "## Merge and metrics"
   ]
  },
  {
   "cell_type": "code",
   "execution_count": 55,
   "metadata": {},
   "outputs": [
    {
     "data": {
      "text/plain": [
       "(100000, 14)"
      ]
     },
     "execution_count": 55,
     "metadata": {},
     "output_type": "execute_result"
    }
   ],
   "source": [
    "df_policy_estimate = df_new_policies.merge(df_random_serving.drop(\"context_id\", axis=1), on=\"id\")\n",
    "df_policy_estimate.shape"
   ]
  },
  {
   "cell_type": "code",
   "execution_count": 56,
   "metadata": {},
   "outputs": [
    {
     "data": {
      "text/html": [
       "<div>\n",
       "<style scoped>\n",
       "    .dataframe tbody tr th:only-of-type {\n",
       "        vertical-align: middle;\n",
       "    }\n",
       "\n",
       "    .dataframe tbody tr th {\n",
       "        vertical-align: top;\n",
       "    }\n",
       "\n",
       "    .dataframe thead th {\n",
       "        text-align: right;\n",
       "    }\n",
       "</style>\n",
       "<table border=\"1\" class=\"dataframe\">\n",
       "  <thead>\n",
       "    <tr style=\"text-align: right;\">\n",
       "      <th></th>\n",
       "      <th>id</th>\n",
       "      <th>context_id</th>\n",
       "      <th>policy_0</th>\n",
       "      <th>policy_1</th>\n",
       "      <th>policy_2</th>\n",
       "      <th>policy_3</th>\n",
       "      <th>policy_4</th>\n",
       "      <th>policy_5</th>\n",
       "      <th>policy_6</th>\n",
       "      <th>policy_7</th>\n",
       "      <th>policy_8</th>\n",
       "      <th>policy_9</th>\n",
       "      <th>selected_ad</th>\n",
       "      <th>user_interaction</th>\n",
       "    </tr>\n",
       "  </thead>\n",
       "  <tbody>\n",
       "    <tr>\n",
       "      <th>0</th>\n",
       "      <td>ece17377-ecb5-4fde-a9e4-d0a990b069f9</td>\n",
       "      <td>context_7958</td>\n",
       "      <td>(ad_1, 0.1)</td>\n",
       "      <td>(ad_2, 0.7)</td>\n",
       "      <td>(ad_0, 0.2)</td>\n",
       "      <td>(ad_1, 0.3)</td>\n",
       "      <td>(ad_2, 0.5)</td>\n",
       "      <td>(ad_2, 0.4)</td>\n",
       "      <td>(ad_2, 0.4)</td>\n",
       "      <td>(ad_0, 0.4)</td>\n",
       "      <td>(ad_0, 0.45)</td>\n",
       "      <td>(ad_1, 0.2)</td>\n",
       "      <td>ad_0</td>\n",
       "      <td>0</td>\n",
       "    </tr>\n",
       "    <tr>\n",
       "      <th>1</th>\n",
       "      <td>79888140-48dd-4727-8c45-58a38aef9dff</td>\n",
       "      <td>context_3687</td>\n",
       "      <td>(ad_0, 0.8)</td>\n",
       "      <td>(ad_0, 0.7)</td>\n",
       "      <td>(ad_0, 0.6)</td>\n",
       "      <td>(ad_1, 0.3)</td>\n",
       "      <td>(ad_1, 0.2)</td>\n",
       "      <td>(ad_1, 0.3)</td>\n",
       "      <td>(ad_1, 0.2)</td>\n",
       "      <td>(ad_2, 0.4)</td>\n",
       "      <td>(ad_2, 0.45)</td>\n",
       "      <td>(ad_1, 0.2)</td>\n",
       "      <td>ad_2</td>\n",
       "      <td>1</td>\n",
       "    </tr>\n",
       "    <tr>\n",
       "      <th>2</th>\n",
       "      <td>5cb0e8e7-9979-4d24-9e92-31d2debf726c</td>\n",
       "      <td>context_3180</td>\n",
       "      <td>(ad_0, 0.8)</td>\n",
       "      <td>(ad_0, 0.7)</td>\n",
       "      <td>(ad_1, 0.2)</td>\n",
       "      <td>(ad_0, 0.5)</td>\n",
       "      <td>(ad_2, 0.2)</td>\n",
       "      <td>(ad_2, 0.3)</td>\n",
       "      <td>(ad_2, 0.2)</td>\n",
       "      <td>(ad_0, 0.3)</td>\n",
       "      <td>(ad_2, 0.35)</td>\n",
       "      <td>(ad_1, 0.6)</td>\n",
       "      <td>ad_0</td>\n",
       "      <td>0</td>\n",
       "    </tr>\n",
       "    <tr>\n",
       "      <th>3</th>\n",
       "      <td>a4ac61b6-bcf9-4e1f-b81f-bf4385719d24</td>\n",
       "      <td>context_7332</td>\n",
       "      <td>(ad_2, 0.8)</td>\n",
       "      <td>(ad_1, 0.1)</td>\n",
       "      <td>(ad_2, 0.6)</td>\n",
       "      <td>(ad_2, 0.5)</td>\n",
       "      <td>(ad_2, 0.5)</td>\n",
       "      <td>(ad_0, 0.3)</td>\n",
       "      <td>(ad_1, 0.4)</td>\n",
       "      <td>(ad_2, 0.3)</td>\n",
       "      <td>(ad_2, 0.2)</td>\n",
       "      <td>(ad_0, 0.2)</td>\n",
       "      <td>ad_1</td>\n",
       "      <td>1</td>\n",
       "    </tr>\n",
       "    <tr>\n",
       "      <th>4</th>\n",
       "      <td>dd1a1073-f49d-49cf-9093-db7c29310c1b</td>\n",
       "      <td>context_9183</td>\n",
       "      <td>(ad_0, 0.8)</td>\n",
       "      <td>(ad_0, 0.7)</td>\n",
       "      <td>(ad_0, 0.6)</td>\n",
       "      <td>(ad_0, 0.5)</td>\n",
       "      <td>(ad_2, 0.3)</td>\n",
       "      <td>(ad_1, 0.3)</td>\n",
       "      <td>(ad_1, 0.2)</td>\n",
       "      <td>(ad_2, 0.4)</td>\n",
       "      <td>(ad_2, 0.45)</td>\n",
       "      <td>(ad_2, 0.6)</td>\n",
       "      <td>ad_1</td>\n",
       "      <td>0</td>\n",
       "    </tr>\n",
       "  </tbody>\n",
       "</table>\n",
       "</div>"
      ],
      "text/plain": [
       "                                     id    context_id     policy_0  \\\n",
       "0  ece17377-ecb5-4fde-a9e4-d0a990b069f9  context_7958  (ad_1, 0.1)   \n",
       "1  79888140-48dd-4727-8c45-58a38aef9dff  context_3687  (ad_0, 0.8)   \n",
       "2  5cb0e8e7-9979-4d24-9e92-31d2debf726c  context_3180  (ad_0, 0.8)   \n",
       "3  a4ac61b6-bcf9-4e1f-b81f-bf4385719d24  context_7332  (ad_2, 0.8)   \n",
       "4  dd1a1073-f49d-49cf-9093-db7c29310c1b  context_9183  (ad_0, 0.8)   \n",
       "\n",
       "      policy_1     policy_2     policy_3     policy_4     policy_5  \\\n",
       "0  (ad_2, 0.7)  (ad_0, 0.2)  (ad_1, 0.3)  (ad_2, 0.5)  (ad_2, 0.4)   \n",
       "1  (ad_0, 0.7)  (ad_0, 0.6)  (ad_1, 0.3)  (ad_1, 0.2)  (ad_1, 0.3)   \n",
       "2  (ad_0, 0.7)  (ad_1, 0.2)  (ad_0, 0.5)  (ad_2, 0.2)  (ad_2, 0.3)   \n",
       "3  (ad_1, 0.1)  (ad_2, 0.6)  (ad_2, 0.5)  (ad_2, 0.5)  (ad_0, 0.3)   \n",
       "4  (ad_0, 0.7)  (ad_0, 0.6)  (ad_0, 0.5)  (ad_2, 0.3)  (ad_1, 0.3)   \n",
       "\n",
       "      policy_6     policy_7      policy_8     policy_9 selected_ad  \\\n",
       "0  (ad_2, 0.4)  (ad_0, 0.4)  (ad_0, 0.45)  (ad_1, 0.2)        ad_0   \n",
       "1  (ad_1, 0.2)  (ad_2, 0.4)  (ad_2, 0.45)  (ad_1, 0.2)        ad_2   \n",
       "2  (ad_2, 0.2)  (ad_0, 0.3)  (ad_2, 0.35)  (ad_1, 0.6)        ad_0   \n",
       "3  (ad_1, 0.4)  (ad_2, 0.3)   (ad_2, 0.2)  (ad_0, 0.2)        ad_1   \n",
       "4  (ad_1, 0.2)  (ad_2, 0.4)  (ad_2, 0.45)  (ad_2, 0.6)        ad_1   \n",
       "\n",
       "   user_interaction  \n",
       "0                 0  \n",
       "1                 1  \n",
       "2                 0  \n",
       "3                 1  \n",
       "4                 0  "
      ]
     },
     "execution_count": 56,
     "metadata": {},
     "output_type": "execute_result"
    }
   ],
   "source": [
    "df_policy_estimate.head()"
   ]
  },
  {
   "cell_type": "code",
   "execution_count": 57,
   "metadata": {},
   "outputs": [],
   "source": [
    "x = df_policy_estimate[\"policy_0\"].values"
   ]
  },
  {
   "cell_type": "code",
   "execution_count": 81,
   "metadata": {},
   "outputs": [],
   "source": [
    "# match and estimate:\n",
    "estimates = []\n",
    "for i in range(len(new_policy_names)):\n",
    "    policy = \"policy_{}\".format(i)\n",
    "    policy_selection = np.asarray([x[0] for x in df_policy_estimate[policy].values])\n",
    "    matching_mask = (df_policy_estimate[\"selected_ad\"] == policy_selection).astype(int)\n",
    "    policy_priors = np.asarray([x[1] for x in df_policy_estimate[policy].values])\n",
    "    \n",
    "    estimate = (df_policy_estimate[\"user_interaction\"] * matching_mask / 0.33).sum() / df_policy_estimate.shape[0]\n",
    "    estimates.append(estimate)"
   ]
  },
  {
   "cell_type": "code",
   "execution_count": 82,
   "metadata": {},
   "outputs": [
    {
     "data": {
      "text/plain": [
       "[0.17496969696969691,\n",
       " 0.19324242424242424,\n",
       " 0.2486060606060606,\n",
       " 0.26554545454545453,\n",
       " 0.2923939393939394,\n",
       " 0.31266666666666665,\n",
       " 0.34260606060606047,\n",
       " 0.3674545454545454,\n",
       " 0.39824242424242423,\n",
       " 0.44551515151515153]"
      ]
     },
     "execution_count": 82,
     "metadata": {},
     "output_type": "execute_result"
    }
   ],
   "source": [
    "estimates"
   ]
  },
  {
   "cell_type": "code",
   "execution_count": 83,
   "metadata": {},
   "outputs": [
    {
     "data": {
      "text/plain": [
       "[<matplotlib.lines.Line2D at 0x12f332518>]"
      ]
     },
     "execution_count": 83,
     "metadata": {},
     "output_type": "execute_result"
    },
    {
     "data": {
      "image/png": "[encoded data removed]",
      "text/plain": [
       "<Figure size 432x288 with 1 Axes>"
      ]
     },
     "metadata": {
      "needs_background": "light"
     },
     "output_type": "display_data"
    }
   ],
   "source": [
    "plt.plot(expected_interaction_rates)\n",
    "plt.plot(estimates)"
   ]
  },
  {
   "cell_type": "markdown",
   "metadata": {},
   "source": [
    "# References\n",
    "\n",
    "- Counterfactual Reasoning & Learning Systems"
   ]
  },
  {
   "cell_type": "code",
   "execution_count": null,
   "metadata": {},
   "outputs": [],
   "source": []
  }
 ],
 "metadata": {
  "kernelspec": {
   "display_name": "Python 3",
   "language": "python",
   "name": "python3"
  },
  "language_info": {
   "codemirror_mode": {
    "name": "ipython",
    "version": 3
   },
   "file_extension": ".py",
   "mimetype": "text/x-python",
   "name": "python",
   "nbconvert_exporter": "python",
   "pygments_lexer": "ipython3",
   "version": "3.6.9"
  }
 },
 "nbformat": 4,
 "nbformat_minor": 4
}
